{
 "cells": [
  {
   "cell_type": "markdown",
   "metadata": {},
   "source": [
    "# 1. Domača Naloga"
   ]
  },
  {
   "cell_type": "markdown",
   "metadata": {},
   "source": [
    "## Naloga 1: "
   ]
  },
  {
   "cell_type": "markdown",
   "metadata": {},
   "source": [
    "1.a: Dopolni funkcijo najdi_koeficiente, ki najde optimalne koeficiente za linearno regresijo. Pomagaj si s prosojnicami iz predavanj, funkcijo inverza numpy.linalg.inv(array) in matričnim množenjem (numpy.matmul(array1, array2) ali @). Pravilnost funkcije lahko preveriš s spodnjo kodo. \n",
    "\n",
    "Kakšne vrednosti koeficientov pričakuješ in kakšne si dobil/a? "
   ]
  },
  {
   "cell_type": "code",
   "execution_count": 1,
   "metadata": {},
   "outputs": [],
   "source": [
    "import numpy as np"
   ]
  },
  {
   "cell_type": "code",
   "execution_count": 2,
   "metadata": {},
   "outputs": [],
   "source": [
    "def najdi_koeficiente(x_train: np.array, y_train: np.array):\n",
    "    coefs = np.linalg.inv(x_train.T @ x_train) @ x_train.T @ y_train\n",
    "    return coefs"
   ]
  },
  {
   "cell_type": "code",
   "execution_count": 3,
   "metadata": {},
   "outputs": [
    {
     "name": "stdout",
     "output_type": "stream",
     "text": [
      "[ 1.00000000e+00  5.00000000e+00  2.10942375e-15 -2.55351296e-15]\n"
     ]
    }
   ],
   "source": [
    "x = np.random.random((1000, 4))\n",
    "y = x[:, 0] + 5*x[:, 1]\n",
    "coefs = najdi_koeficiente(x, y)\n",
    "\n",
    "assert coefs.shape == (4,)\n",
    "print(coefs)"
   ]
  },
  {
   "cell_type": "markdown",
   "metadata": {},
   "source": [
    "1.b Smiselno dopolni funkciji *najdi_koeficiente2* in *napovej* tako, da boš z njima lahko sestavil model, ki bo imel RMSE < 1e-10 na testnih podatkih funkcije x_1 + 5x_2 + 12. Pomagaš si lahko s funkcijo numpy.concatnate(seznam stolpcev, axis=1)."
   ]
  },
  {
   "cell_type": "code",
   "execution_count": 4,
   "metadata": {},
   "outputs": [],
   "source": [
    "from sklearn.metrics import mean_squared_error"
   ]
  },
  {
   "cell_type": "code",
   "execution_count": 5,
   "metadata": {},
   "outputs": [],
   "source": [
    "def najdi_koeficiente2(x_train, y_train):\n",
    "    x = np.concatenate([np.ones((x_train.shape[0], 1)), x_train], axis=1)\n",
    "    coefs = np.linalg.inv(x.T @ x) @ x.T @ y_train\n",
    "    return coefs"
   ]
  },
  {
   "cell_type": "code",
   "execution_count": 6,
   "metadata": {},
   "outputs": [],
   "source": [
    "def napovej(coefs, x_test):\n",
    "    return x_test @ coefs[1:] + coefs[0]"
   ]
  },
  {
   "cell_type": "code",
   "execution_count": 7,
   "metadata": {},
   "outputs": [
    {
     "name": "stdout",
     "output_type": "stream",
     "text": [
      "Coeficients: 12.0, 1.0, 5.0, -0.0, 0.0\n",
      "RMSE: 2.4060161591314086e-14\n"
     ]
    }
   ],
   "source": [
    "x = np.random.random((1000, 4))\n",
    "y = x[:, 0] + 5*x[:, 1] + 12\n",
    "coefs = najdi_koeficiente2(x, y)\n",
    "\n",
    "print(f\"Coeficients: {', '.join([str(np.round(c, 5)) for c in coefs])}\")\n",
    "\n",
    "x_test = np.random.random((1000, 4))\n",
    "y_test = x_test[:, 0] + 5*x_test[:, 1] + 12\n",
    "y_pred = napovej(coefs, x_test)\n",
    "error = np.sqrt(mean_squared_error(y_test, y_pred))\n",
    "print(f\"RMSE: {error}\")\n",
    "assert error < 1e-10"
   ]
  },
  {
   "cell_type": "markdown",
   "metadata": {},
   "source": [
    "1.c: Naloži podatke iz datoteke \"\" in jih razdeli na podatke (x) in ciljne vrednosti (y). Ciljne vrednosti se nahajajo v zadnjem stolpcu."
   ]
  },
  {
   "cell_type": "code",
   "execution_count": 8,
   "metadata": {},
   "outputs": [],
   "source": [
    "data = np.load(\"../Podatki/dn1_1.npy\")\n",
    "X = data[:, :-1]\n",
    "y = data[:, -1]"
   ]
  },
  {
   "cell_type": "markdown",
   "metadata": {},
   "source": [
    "1.d: Čim bolje oceni točnost napovednega modela iz naloge 1.b. Predpostavi, da bo model natreniran na vseh podatkih iz naloge 1.c in da bodo novi podatki prihajali iz iste domene (in distribucije) kot učni podatki."
   ]
  },
  {
   "cell_type": "code",
   "execution_count": 9,
   "metadata": {},
   "outputs": [],
   "source": [
    "from sklearn.model_selection import KFold"
   ]
  },
  {
   "cell_type": "code",
   "execution_count": 10,
   "metadata": {},
   "outputs": [
    {
     "name": "stdout",
     "output_type": "stream",
     "text": [
      "Mean RMSE: 0.19247086658284746\n"
     ]
    }
   ],
   "source": [
    "kfold = KFold(n_splits=X.shape[0])\n",
    "errors = []\n",
    "\n",
    "for i, (train_idx, test_idx) in enumerate(kfold.split(X)):\n",
    "    x_train = X[train_idx, :]\n",
    "    y_train = y[train_idx]\n",
    "    x_test = X[test_idx, :]\n",
    "    y_test = y[test_idx]\n",
    "    coefs = najdi_koeficiente2(x_train, y_train) \n",
    "    y_pred = napovej(coefs, x_test)\n",
    "    error = np.sqrt(mean_squared_error(y_test, y_pred))\n",
    "    errors.append(error)\n",
    "\n",
    "print(f\"Mean RMSE: {np.mean(errors)}\")"
   ]
  },
  {
   "cell_type": "markdown",
   "metadata": {},
   "source": [
    "## Naloga 2:"
   ]
  },
  {
   "cell_type": "markdown",
   "metadata": {},
   "source": [
    "2.a: Preberi podatke z diskretno ciljno spremenljivko iz datoteke \"dn1_2.npz\" (pomagaj si z nalogo 2 iz vaj 3). Izračunaj nekaj preprostih statistik za vsak stolpec in podatke po potrebi predprocesiraj."
   ]
  },
  {
   "cell_type": "code",
   "execution_count": 11,
   "metadata": {},
   "outputs": [],
   "source": [
    "data = np.load(\"../Podatki/dn1_2.npz\")\n",
    "X = data[\"x\"]\n",
    "y = data[\"y\"]"
   ]
  },
  {
   "cell_type": "code",
   "execution_count": 12,
   "metadata": {},
   "outputs": [
    {
     "name": "stdout",
     "output_type": "stream",
     "text": [
      "x1: min -2.9932, max 2.9962, mean -0.0166\n",
      "x2: min -0.9992, max 8.9973, mean 3.9371\n",
      "x3: min 4.0011, max 6.9997, mean 5.4998\n",
      "x4: min 0.0002, max 1.9992, mean 0.9804\n",
      "x5: min -0.9993, max 3.9982, mean 1.4863\n",
      "x6: min 0.2002, max 0.9996, mean 0.5971\n",
      "x7: min 0.5, max 0.9998, mean 0.7453\n",
      "x8: min 0.0003, max 0.9992, mean 0.5085\n"
     ]
    }
   ],
   "source": [
    "for i in range(X.shape[1]):\n",
    "    print(f\"x{i+1}: min {np.round(np.min(X[:, i]), 4)}, max {np.round(np.max(X[:, i]), 4)}, mean {np.round(np.mean(X[:, i]), 4)}\")"
   ]
  },
  {
   "cell_type": "markdown",
   "metadata": {},
   "source": [
    "2.b: Preveri točnost in stabilnost logistične regresije. Poskrbi, da bodo eksperimenti ponovljivi in točnost modela čim bolje ocenjena. Če uporabiš prečno preverjanje, naj število vzorcev ne presega 10."
   ]
  },
  {
   "cell_type": "code",
   "execution_count": 13,
   "metadata": {},
   "outputs": [],
   "source": [
    "from sklearn.linear_model import LogisticRegression\n",
    "from sklearn.metrics import accuracy_score"
   ]
  },
  {
   "cell_type": "code",
   "execution_count": 14,
   "metadata": {},
   "outputs": [
    {
     "name": "stdout",
     "output_type": "stream",
     "text": [
      "Fold 0 accuracy: 0.945\n",
      "Fold 1 accuracy: 0.96\n",
      "Fold 2 accuracy: 0.975\n",
      "Fold 3 accuracy: 0.95\n",
      "Fold 4 accuracy: 0.95\n",
      "Fold 5 accuracy: 0.96\n",
      "Fold 6 accuracy: 0.98\n",
      "Fold 7 accuracy: 0.975\n",
      "Fold 8 accuracy: 0.955\n",
      "Fold 9 accuracy: 0.96\n",
      "Mean accuracy: 0.961\n"
     ]
    }
   ],
   "source": [
    "np.random.seed(18)\n",
    "kfold = KFold(n_splits=10, shuffle=True)\n",
    "errors = []\n",
    "\n",
    "for i, (train_idx, test_idx) in enumerate(kfold.split(X)):\n",
    "    x_train = X[train_idx, :]\n",
    "    y_train = y[train_idx]\n",
    "    x_test = X[test_idx, :]\n",
    "    y_test = y[test_idx]\n",
    "    model = LogisticRegression().fit(x_train, y_train)\n",
    "    y_pred = model.predict(x_test)\n",
    "    error = accuracy_score(y_test, y_pred)\n",
    "    errors.append(error)\n",
    "    print(f\"Fold {i} accuracy: {error}\")\n",
    "\n",
    "print(f\"Mean accuracy: {np.mean(errors)}\")"
   ]
  },
  {
   "cell_type": "markdown",
   "metadata": {},
   "source": [
    "2.c: Domenski ekspert vam je namignil, da je ciljna vrednost korelirana s kvadratom prve spremenljivke (X[:, 0]) in produktom prvih treh (X[:, 0], X[:, 1], X[:, 2]). Lahko s tem namigom model izboljšaš? Če lahko, za koliko se model izboljša? \n",
    "\n",
    "Opomba:  Opozorilu o problem s konvergenco se lahko izognete tako da povečate število iteracij logistične regresije (npr. na 1000)"
   ]
  },
  {
   "cell_type": "code",
   "execution_count": 15,
   "metadata": {},
   "outputs": [],
   "source": [
    "X = np.concatenate([X, (X[:, 0]**2)[:, None], (X[:, 0]*X[:, 1]*X[:, 2])[:, None]], axis=1)"
   ]
  },
  {
   "cell_type": "code",
   "execution_count": 16,
   "metadata": {},
   "outputs": [
    {
     "name": "stdout",
     "output_type": "stream",
     "text": [
      "Fold 0 accuracy: 0.985\n",
      "Fold 1 accuracy: 1.0\n",
      "Fold 2 accuracy: 0.995\n",
      "Fold 3 accuracy: 0.99\n",
      "Fold 4 accuracy: 0.985\n",
      "Fold 5 accuracy: 1.0\n",
      "Fold 6 accuracy: 1.0\n",
      "Fold 7 accuracy: 1.0\n",
      "Fold 8 accuracy: 1.0\n",
      "Fold 9 accuracy: 1.0\n",
      "Mean accuracy: 0.9955\n"
     ]
    }
   ],
   "source": [
    "np.random.seed(18)\n",
    "kfold = KFold(n_splits=10, shuffle=True)\n",
    "errors = []\n",
    "\n",
    "for i, (train_idx, test_idx) in enumerate(kfold.split(X)):\n",
    "    x_train = X[train_idx, :]\n",
    "    y_train = y[train_idx]\n",
    "    x_test = X[test_idx, :]\n",
    "    y_test = y[test_idx]\n",
    "    model = LogisticRegression(max_iter=1000).fit(x_train, y_train)\n",
    "    y_pred = model.predict(x_test)\n",
    "    error = accuracy_score(y_test, y_pred)\n",
    "    errors.append(error)\n",
    "    print(f\"Fold {i} accuracy: {error}\")\n",
    "\n",
    "print(f\"Mean accuracy: {np.mean(errors)}\")"
   ]
  },
  {
   "cell_type": "code",
   "execution_count": 17,
   "metadata": {},
   "outputs": [],
   "source": [
    "from sklearn.preprocessing import normalize"
   ]
  },
  {
   "cell_type": "code",
   "execution_count": 18,
   "metadata": {},
   "outputs": [
    {
     "name": "stdout",
     "output_type": "stream",
     "text": [
      "Fold 0 accuracy: 0.955\n",
      "Fold 1 accuracy: 0.96\n",
      "Fold 2 accuracy: 0.95\n",
      "Fold 3 accuracy: 0.965\n",
      "Fold 4 accuracy: 0.95\n",
      "Fold 5 accuracy: 0.96\n",
      "Fold 6 accuracy: 0.98\n",
      "Fold 7 accuracy: 0.97\n",
      "Fold 8 accuracy: 0.96\n",
      "Fold 9 accuracy: 0.975\n",
      "Mean accuracy: 0.9624999999999998\n"
     ]
    }
   ],
   "source": [
    "normalized_x = normalize(X)\n",
    "\n",
    "np.random.seed(18)\n",
    "kfold = KFold(n_splits=10, shuffle=True)\n",
    "errors = []\n",
    "\n",
    "for i, (train_idx, test_idx) in enumerate(kfold.split(normalized_x)):\n",
    "    x_train = normalized_x[train_idx, :]\n",
    "    y_train = y[train_idx]\n",
    "    x_test = normalized_x[test_idx, :]\n",
    "    y_test = y[test_idx]\n",
    "    model = LogisticRegression(max_iter=1000).fit(x_train, y_train)\n",
    "    y_pred = model.predict(x_test)\n",
    "    error = accuracy_score(y_test, y_pred)\n",
    "    errors.append(error)\n",
    "    print(f\"Fold {i} accuracy: {error}\")\n",
    "\n",
    "print(f\"Mean accuracy: {np.mean(errors)}\")"
   ]
  },
  {
   "cell_type": "markdown",
   "metadata": {},
   "source": [
    "2.d: Lahko s pomočjo logistične regresije najdeš spremenljivke, ki za klasifikacijo niso pomembne? Če ja, katere spremenljivke si izbral, zakaj in kakšna je točnost brez njih?"
   ]
  },
  {
   "cell_type": "code",
   "execution_count": 19,
   "metadata": {},
   "outputs": [
    {
     "name": "stdout",
     "output_type": "stream",
     "text": [
      "Intercept: [-26.85666836]\n",
      "Coefficient of feature 0: 0.19655533428944624\n",
      "Coefficient of feature 1: 0.2486838590895063\n",
      "Coefficient of feature 2: -1.15475246798134\n",
      "Coefficient of feature 3: 0.10730059787665548\n",
      "Coefficient of feature 4: 3.8830382732492916\n",
      "Coefficient of feature 5: 0.3432592869754726\n",
      "Coefficient of feature 6: 0.15627957514272783\n",
      "Coefficient of feature 7: 0.5809316615842955\n",
      "Coefficient of feature 8: 0.5015772948141607\n",
      "Coefficient of feature 9: 0.7695602562480682\n"
     ]
    }
   ],
   "source": [
    "model = LogisticRegression(max_iter=1000).fit(X, y)\n",
    "print(f\"Intercept: {model.intercept_}\")\n",
    "for i in range(X.shape[1]):\n",
    "    print(f\"Coefficient of feature {i}: {model.coef_[0][i]}\")\n"
   ]
  },
  {
   "cell_type": "code",
   "execution_count": 20,
   "metadata": {},
   "outputs": [
    {
     "name": "stdout",
     "output_type": "stream",
     "text": [
      "Fold 0 accuracy: 0.985\n",
      "Fold 1 accuracy: 1.0\n",
      "Fold 2 accuracy: 0.995\n",
      "Fold 3 accuracy: 0.99\n",
      "Fold 4 accuracy: 0.99\n",
      "Fold 5 accuracy: 1.0\n",
      "Fold 6 accuracy: 1.0\n",
      "Fold 7 accuracy: 1.0\n",
      "Fold 8 accuracy: 1.0\n",
      "Fold 9 accuracy: 1.0\n",
      "Mean accuracy: 0.9960000000000001\n"
     ]
    }
   ],
   "source": [
    "x_smaller = X[:, [2, 4, 7, 8, 9]]\n",
    "np.random.seed(18)\n",
    "kfold = KFold(n_splits=10, shuffle=True)\n",
    "errors = []\n",
    "\n",
    "for i, (train_idx, test_idx) in enumerate(kfold.split(x_smaller)):\n",
    "    x_train = x_smaller[train_idx, :]\n",
    "    y_train = y[train_idx]\n",
    "    x_test = x_smaller[test_idx, :]\n",
    "    y_test = y[test_idx]\n",
    "    model = LogisticRegression(max_iter=1000).fit(x_train, y_train)\n",
    "    y_pred = model.predict(x_test)\n",
    "    error = accuracy_score(y_test, y_pred)\n",
    "    errors.append(error)\n",
    "    print(f\"Fold {i} accuracy: {error}\")\n",
    "\n",
    "print(f\"Mean accuracy: {np.mean(errors)}\")"
   ]
  },
  {
   "cell_type": "markdown",
   "metadata": {},
   "source": [
    "## Naloga 3: K-najbližjih sosedov"
   ]
  },
  {
   "cell_type": "markdown",
   "metadata": {},
   "source": [
    "3.a: Preberi podatkovno množico z numerično ciljno spremenljiko iz datoteke `dn1_3.npz`.  "
   ]
  },
  {
   "cell_type": "code",
   "execution_count": 2,
   "metadata": {},
   "outputs": [],
   "source": [
    "import numpy as np\n",
    "data3 = np.load(\"../Podatki/dn1_3.npz\")\n",
    "x = data3['x']\n",
    "y = data3['y']"
   ]
  },
  {
   "cell_type": "markdown",
   "metadata": {},
   "source": [
    "3.b: Sestavi napovedni model k-najbližjih sosedov s čim nižjim RMSE-jem. Poskrbi, da poleg ocene točnosti modela, poročaš tudi stabilnost ocene. Opiši, kakšen je tvoj model in kako/zakaj si se odločil za vsako izbiro. Opiši tudi eksperimente, ki si jih poskusil/a, a niso izboljšali rezultata.\n",
    "\n",
    "Opomba: Pomen spremenljivk je sledeč:\n",
    "- $x_1$: Zaporedna številka diamanta v bazi\n",
    "- $x_2$: Število karatov\n",
    "- $x_3$: Procent globine diamanta ($\\frac{2\\cdot z}{x+y}$)\n",
    "- $x_4$: Razmerje med širino vrha in najširšo točko\n",
    "- $x_5$: Dolžina diamanta\n",
    "- $x_6$: Širina diamanta\n",
    "- $x_7$: Globina diamanta\n",
    "- $x_8$: Kvaliteta brusa (\"Ideal\": 4, \"Premium\": 3, \"Very Good\": 2, \"Good\": 1, \"Fair\": 0)\n",
    "- $x_{9}$: Barva (\"D\": 0, \"E\": 1, \"F\": 2, \"G\": 3, \"H\": 4, \"I\": 5, \"J\":6)\n",
    "- $x_{10}$: Čistost (\"I1\": 0, \"SI2\": 1, \"SI1\": 2, \"VS2\": 3, \"VS1\": 4, \"VVS2\": 5, \"VVS1\": 6, \"IF\": 7)\n",
    "- $x_{11}$: Oddaljenost najdišča od ekvatorja\n",
    "- $y$: Cena diamanta"
   ]
  },
  {
   "cell_type": "code",
   "execution_count": 3,
   "metadata": {},
   "outputs": [],
   "source": [
    "from sklearn.neighbors import KNeighborsRegressor\n",
    "from sklearn.model_selection import KFold\n",
    "from sklearn.metrics import mean_squared_error"
   ]
  }
 ],
 "metadata": {
  "kernelspec": {
   "display_name": "ITAP24",
   "language": "python",
   "name": "python3"
  },
  "language_info": {
   "codemirror_mode": {
    "name": "ipython",
    "version": 3
   },
   "file_extension": ".py",
   "mimetype": "text/x-python",
   "name": "python",
   "nbconvert_exporter": "python",
   "pygments_lexer": "ipython3",
   "version": "3.10.13"
  }
 },
 "nbformat": 4,
 "nbformat_minor": 2
}
