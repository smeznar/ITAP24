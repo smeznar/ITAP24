{
 "cells": [
  {
   "cell_type": "markdown",
   "metadata": {},
   "source": [
    "# 1. Domača Naloga"
   ]
  },
  {
   "cell_type": "markdown",
   "metadata": {},
   "source": [
    "## Naloga 1: Linearna regresija"
   ]
  },
  {
   "cell_type": "markdown",
   "metadata": {},
   "source": [
    "1.a: Dopolni funkcijo `najdi_koeficiente`, ki vrne optimalne vrednosti koeficientov modela linearne regresije. Pomagaj si s prosojnicami iz predavanj, funkcijo za izračun inverza matrike `numpy.linalg.inv(array)` in operatorjem matričnega množenja, `numpy.matmul(array1, array2)` ali `@`. Pravilnost dopolnjene funkcije lahko preveriš s spodnjo kodo. \n",
    "\n",
    "Kakšne optimalne vrednosti koeficientov si pričakoval/a in kakšne si dobil/a? "
   ]
  },
  {
   "cell_type": "code",
   "execution_count": null,
   "metadata": {},
   "outputs": [],
   "source": [
    "import numpy as np"
   ]
  },
  {
   "cell_type": "code",
   "execution_count": null,
   "metadata": {},
   "outputs": [],
   "source": [
    "def najdi_koeficiente(x_train: np.array, y_train: np.array):\n",
    "    # Izračunaj optimalne vrednosit koeficientov in jih shrani v spremenljivko coefs\n",
    "\n",
    "    return coefs"
   ]
  },
  {
   "cell_type": "code",
   "execution_count": null,
   "metadata": {},
   "outputs": [],
   "source": [
    "# Vzorčimo naključna števila v matriko dimenzij 1000x4,\n",
    "# ki podaja vrednosti štirih napovednih spremenljivk\n",
    "x = np.random.random((1000, 4))\n",
    "# Izračunamo vrednosti ciljne spremenljivke z modelom y = x1 + 5 x2\n",
    "y = x[:, 0] + 5*x[:, 1]\n",
    "# Izračunamo optimalne vrednosti koeficientov linearnega modela\n",
    "coefs = najdi_koeficiente(x, y)\n",
    "\n",
    "# Preverimo, če je matrika coefs ustreznih dimenzij\n",
    "assert coefs.shape == (4,)\n",
    "# Izpišemo vrednosti koeficientov\n",
    "print(coefs)"
   ]
  },
  {
   "cell_type": "markdown",
   "metadata": {},
   "source": [
    "1.b Smiselno dopolni funkciji `najdi_koeficiente2` in `napovej` tako, da boš z njima lahko sestavil model, ki bo imel RMSE $< 10^{-10}$ na testnih podatkih, dobljenih z modelom $y = x_1 + 5x_2 + 12$. Pomagaš si lahko s funkcijo `numpy.concatnate(seznam stolpcev, axis=1)`."
   ]
  },
  {
   "cell_type": "code",
   "execution_count": null,
   "metadata": {},
   "outputs": [],
   "source": [
    "from sklearn.metrics import mean_squared_error"
   ]
  },
  {
   "cell_type": "code",
   "execution_count": null,
   "metadata": {},
   "outputs": [],
   "source": [
    "def najdi_koeficiente2(x_train, y_train):\n",
    "    # Izračunaj optimalne vrednosti koeficientov in jih shrani v spremenljivko coefs\n",
    "\n",
    "    return coefs"
   ]
  },
  {
   "cell_type": "code",
   "execution_count": null,
   "metadata": {},
   "outputs": [],
   "source": [
    "def napovej(coefs, x_test):\n",
    "    # Izračunaj napovedi linarnega modela z vrednostmi koeficientov coefs\n",
    "    # za primere iz x_test in jih shrani v y_pred\n",
    "\n",
    "    return y_pred"
   ]
  },
  {
   "cell_type": "code",
   "execution_count": null,
   "metadata": {},
   "outputs": [],
   "source": [
    "# Vzorčimo matriko naključnih števil velikosti 1000x4\n",
    "x = np.random.random((1000, 4))\n",
    "# Definiramo ciljno spremenljivko\n",
    "y = x[:, 0] + 5*x[:, 1] + 12\n",
    "# Najdemo koeficiente\n",
    "coefs = najdi_koeficiente2(x, y)\n",
    "\n",
    "# Izpišemo koeficiente, funkcijo \"{nekej}\".join(seznam nizov) pretvori seznam nizov v niz oblike: \"{seznam[0]}{nekej}{seznam[1]}{nekej}...{nekej}{seznam[-1]}\"\n",
    "# Funkcija np.round(stevilo, celo število) zaokrozi število na \"celo število\" decimalnih mest\n",
    "print(f\"Coeficients: {', '.join([str(np.round(c, 3)) for c in coefs])}\")\n",
    "\n",
    "# Vzorčimo matriko naključnih števil velikosti 1000x4 za testno množico\n",
    "x_test = np.random.random((1000, 4))\n",
    "# Izračunamo ciljno spremenljivko\n",
    "y_test = x_test[:, 0] + 5*x_test[:, 1] + 12\n",
    "# Napovemo cilne vrednosti za testne napovedne podatke \n",
    "y_pred = napovej(coefs, x_test)\n",
    "# Izračunamo RMSE testnih napovedi\n",
    "error = np.sqrt(mean_squared_error(y_test, y_pred))\n",
    "print(f\"RMSE: {error}\")\n",
    "# Preverimo, da je napaka manjša od 10^{-10}\n",
    "assert error < 1e-10"
   ]
  },
  {
   "cell_type": "markdown",
   "metadata": {},
   "source": [
    "1.c: Naloži podatkovno množico iz datoteke `dn1_1.npy` in jo razdeli na podatke o napovednih spremenljivkah $x$ in podatke o ciljni spremenljivki $y$. Ciljna spremenljivka je v zadnjem stolpcu datoteke s podatkovno množico."
   ]
  },
  {
   "cell_type": "code",
   "execution_count": null,
   "metadata": {},
   "outputs": [],
   "source": []
  },
  {
   "cell_type": "markdown",
   "metadata": {},
   "source": [
    "1.d: Čim bolje oceni točnost (ali napako) napovednega modela iz naloge 1.b. Predpostavi, da bo model naučen na vseh podatkih iz naloge 1.c in da bodo novi podatki prihajali iz iste domene (in verjetnostne porazdelitve) kot učni podatki."
   ]
  },
  {
   "cell_type": "code",
   "execution_count": null,
   "metadata": {},
   "outputs": [],
   "source": []
  },
  {
   "cell_type": "markdown",
   "metadata": {},
   "source": [
    "## Naloga 2: Logistična regresija"
   ]
  },
  {
   "cell_type": "markdown",
   "metadata": {},
   "source": [
    "2.a: Preberi podatkovno množico z diskretno ciljno spremenljivko iz datoteke `dn1_2.npz` (pomagaš si lahko z nalogo 2 iz vaj 3). Izračunaj nekaj preprostih statistik za vsako spremenljivko (stolpec) in podatke po potrebi predprocesiraj za potrebe učenja linearnega modela."
   ]
  },
  {
   "cell_type": "code",
   "execution_count": null,
   "metadata": {},
   "outputs": [],
   "source": []
  },
  {
   "cell_type": "markdown",
   "metadata": {},
   "source": [
    "2.b: Ovrednoti točnost (napako) in stabilnost modela logistične regresije. Poskrbi, da bodo eksperimenti ponovljivi in točnost modela čim bolje ocenjena. Če uporabiš prečno preverjanje, naj število vzorcev ne presega 10."
   ]
  },
  {
   "cell_type": "code",
   "execution_count": null,
   "metadata": {},
   "outputs": [],
   "source": []
  },
  {
   "cell_type": "markdown",
   "metadata": {},
   "source": [
    "2.c: Domenski ekspert vam je namignil, da je vrednost ciljne spremenljivke korelirana s kvadratom prve napovedne spremenljivke (X[:, 0]) in produktom prvih treh napovednih sprememnljivk (X[:, 0], X[:, 1], X[:, 2]). Ali lahko namig uporabiš za izboljšanje modela logistične regresije? Če ga lahko, ovrednoti izboljšanje.\n",
    "\n",
    "Opomba: Opozorilu o problemu s konvergenco se lahko izognete tako, da povečate število iteracij logistične regresije (npr. na 1000)."
   ]
  },
  {
   "cell_type": "code",
   "execution_count": null,
   "metadata": {},
   "outputs": [],
   "source": []
  },
  {
   "cell_type": "markdown",
   "metadata": {},
   "source": [
    "2.d: Ali lahko s pomočjo logistične regresije ugotoviš nabor napovednih spremenljivk, ki za klasifikacijo niso pomembne? Če lahko ugotoviš, potem poročaj katere spremenljivke so v tem naboru, zakaj sodiš, da so v njem, in kakšna je točnost modela logistične regresije, če jih odstraniš iz podatkovne množice? \n",
    "\n",
    "Ali se rezultati med prejšnjim in sedanjim modelom zelo razlikujejo? Kaj je po tvoje razlog za to?"
   ]
  },
  {
   "cell_type": "code",
   "execution_count": null,
   "metadata": {},
   "outputs": [],
   "source": []
  },
  {
   "cell_type": "markdown",
   "metadata": {},
   "source": [
    "## Naloga 3: K-najbližjih sosedov"
   ]
  },
  {
   "cell_type": "markdown",
   "metadata": {},
   "source": [
    "3.a: Preberi podatkovno množico z diskretno ciljno spremenljiko iz datoteke `dn1_3.npz`.  "
   ]
  },
  {
   "cell_type": "code",
   "execution_count": null,
   "metadata": {},
   "outputs": [],
   "source": []
  },
  {
   "cell_type": "markdown",
   "metadata": {},
   "source": [
    "3.b: Sestavi napovedni model k-najbližjih sosedov s čim nižjim RMSE-jem. Poskrbi, da poleg ocene točnosti modela, poročaš tudi stabilnost ocene. Opiši, kakšen je tvoj model in kako/zakaj si se odločil za vsako izbiro. Opiši tudi eksperimente, ki si jih poskusil/a, a niso izboljšali rezultata.\n",
    "\n",
    "Opomba: Pomen spremenljivk je sledeč:\n",
    "- $x_1$: Zaporedna številka diamanta v bazi\n",
    "- $x_2$: Število karatov\n",
    "- $x_3$: Procent globine diamanta ($\\frac{2\\cdot z}{x+y}$)\n",
    "- $x_4$: Razmerje med širino vrha in najširšo točko\n",
    "- $x_5$: Dolžina diamanta\n",
    "- $x_6$: Širina diamanta\n",
    "- $x_7$: Globina diamanta\n",
    "- $x_8$: Oddaljenost najdišča od ekvatorja\n",
    "- $x_9$: Kvaliteta brusa (\"Ideal\": 4, \"Premium\": 3, \"Very Good\": 2, \"Good\": 1, \"Fair\": 0)\n",
    "- $x_{10}$: Barva (\"D\": 0, \"E\": 1, \"F\": 2, \"G\": 3, \"H\": 4, \"I\": 5, \"J\":6)\n",
    "- $x_{11}$: Čistost (\"I1\": 0, \"SI2\": 1, \"SI1\": 2, \"VS2\": 3, \"VS1\": 4, \"VVS2\": 5, \"VVS1\": 6, \"IF\": 7)\n",
    "- $y$: Cena diamanta\n"
   ]
  },
  {
   "cell_type": "code",
   "execution_count": null,
   "metadata": {},
   "outputs": [],
   "source": []
  }
 ],
 "metadata": {
  "kernelspec": {
   "display_name": "ITAP24",
   "language": "python",
   "name": "python3"
  },
  "language_info": {
   "name": "python",
   "version": "3.10.13"
  }
 },
 "nbformat": 4,
 "nbformat_minor": 2
}
