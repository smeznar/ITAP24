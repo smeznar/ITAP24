{
 "cells": [
  {
   "cell_type": "markdown",
   "metadata": {},
   "source": [
    "# Vaje 2: Linearni napovedni modeli"
   ]
  },
  {
   "cell_type": "markdown",
   "metadata": {},
   "source": [
    "## Naloga 1: Linearna regresija"
   ]
  },
  {
   "cell_type": "markdown",
   "metadata": {},
   "source": [
    "1.a: Ustvari podatkovno množico z vsaj desetimi spremenljivkami, na kateri boš testiral pristop. Funkcija ciljne spremenljivke, ki jo definiraš, naj bo numerična, naj vsebuje šum in ima največ 5 spremenljivk.\n",
    "\n",
    "<details>\n",
    "  <summary>Namig:</summary>\n",
    "\n",
    "  *Pomagaj si s [funkcijo numpy.random.random_sample()](https://numpy.org/doc/1.25/reference/random/generated/numpy.random.random_sample.html) in s [funkcijo numpy.random.normal()](https://numpy.org/doc/1.25/reference/random/generated/numpy.random.normal.html)*.\n",
    "   \n",
    "</details>"
   ]
  },
  {
   "cell_type": "code",
   "execution_count": 1,
   "metadata": {},
   "outputs": [],
   "source": [
    "import numpy as np"
   ]
  },
  {
   "cell_type": "code",
   "execution_count": 2,
   "metadata": {},
   "outputs": [],
   "source": [
    "# Z numpy.random.random() zgeneriramo matriko velikosti 1000x10 (1000 vrstic, 10 stolpcev)\n",
    "x = np.random.random((1000, 10))\n",
    "# Definiramo ciljno spremenljivko in ji dodamo normalno porazdeljen šum z numpy.random.normal(pričakovana vrednost, standardna deviacija)\n",
    "# Z x[:, i] izberemo celoten i-ti stolpec matrike\n",
    "y = x[:, 0] * x[:, 1] - 3 * x[:, 2] +  6*x[:, 3] - 3 * x[:, 4] * x[:, 3] * x[:, 2] + np.random.normal(0, 0.2, size=1000)\n",
    "# Definiramo masko, ki nam pove katere katere spremenljivke definirajo ciljno spremenljivko\n",
    "y_mask = [True, True, True, True, True, False, False, False, False, False]"
   ]
  },
  {
   "cell_type": "markdown",
   "metadata": {},
   "source": [
    "1.b: Podatke razdeli na učno in testno množico. Razmerje med velikostjo učne in testne množice naj bo 4:1."
   ]
  },
  {
   "cell_type": "code",
   "execution_count": 4,
   "metadata": {},
   "outputs": [],
   "source": [
    "# Izberemo prvih (4/5)*1000=800 vrstic, ki bodo sestavljale učno množico\n",
    "x_train = x[:800, :]\n",
    "y_train = y[:800]\n",
    "# Izberemo zadnjih (1/5)*1000=200 vrstic, ki bodo sestavljale testno množico\n",
    "x_test = x[800:, :]\n",
    "y_test = y[800:]"
   ]
  },
  {
   "cell_type": "markdown",
   "metadata": {},
   "source": [
    "1.c: Natreniraj model linearne regresije in oceni njegovo točnost na testni množici z RMSE.\n",
    "\n",
    "<details>\n",
    "  <summary>Namig:</summary>\n",
    "\n",
    "  *Uporabi [napovedni model sklearn.linear_model.LinearRegression](https://scikit-learn.org/stable/modules/generated/sklearn.linear_model.LinearRegression.html) in [sklearn.metrics.root_mean_squared_error()](https://scikit-learn.org/stable/modules/generated/sklearn.metrics.root_mean_squared_error.html)*.\n",
    "\n",
    "</details>"
   ]
  },
  {
   "cell_type": "code",
   "execution_count": 5,
   "metadata": {},
   "outputs": [],
   "source": [
    "from sklearn.metrics import root_mean_squared_error\n",
    "from sklearn.linear_model import LinearRegression"
   ]
  },
  {
   "cell_type": "code",
   "execution_count": 6,
   "metadata": {},
   "outputs": [
    {
     "name": "stdout",
     "output_type": "stream",
     "text": [
      "RMSE error on test data: 0.3250353644451613\n"
     ]
    }
   ],
   "source": [
    "# Natreniramo napovedni model linearne regresije\n",
    "lm = LinearRegression().fit(x_train, y_train)\n",
    "\n",
    "# Napovemo ciljno spremenljivko za testne podatke\n",
    "y_pred = lm.predict(x_test)\n",
    "\n",
    "# Izpišemo RMSE modela na testnih podatkih \n",
    "print(f\"RMSE error on test data: {root_mean_squared_error(y_test, y_pred)}\")"
   ]
  },
  {
   "cell_type": "markdown",
   "metadata": {},
   "source": [
    "1.d: Odgovori na naslednja vprašanja:\n",
    "- Kateri koeficienti spremenljivk pozitivno korelirajo s ciljno spremenljivko in kateri negativno?\n",
    "- Katera spremenljivka najbolj vpliva na napoved modela?\n",
    "- Kako bi brez klica metode LinearRegression.predict() ugotovil vrednost, ki bi jo model napovedal za vektor ničel?\n",
    "- Kolikšna je razlika med napako na učni in testni množici?\n",
    "- Koliko na točnost vplivajo spremenljivke, ki se v ciljni funkciji ne pojavijo?"
   ]
  },
  {
   "cell_type": "code",
   "execution_count": 7,
   "metadata": {},
   "outputs": [
    {
     "name": "stdout",
     "output_type": "stream",
     "text": [
      "Model coefficients: 0.46419727624946205, 0.5289547249461419, -3.7124154386290544, 5.267663879840353, -0.6880239771727504, 0.03773155114162785, 0.00741530931852552, -0.01373158354827786, 0.05619379221610932, 0.08798450719443474\n",
      "Indices of positive coefficients: 0, 1, 3, 5, 6, 8, 9\n",
      "Indices of negative coefficients: 2, 4, 7\n",
      "Index of the coefficient with the highest absolute value: 3\n",
      "Intercept of the model: 0.38605072954262587\n",
      "Error on the train set: 0.30953193870362017\n",
      "Error on the test set: 0.3250353644451613\n",
      "Difference between the errors: 0.015503425741541121\n",
      "Error on test data for the model with only relevant features: 0.32251644266754587\n",
      "Difference in error between the original model and model with only relevant features 0.002518921777615424\n"
     ]
    }
   ],
   "source": [
    "# Izpišemo koeficiente modela\n",
    "print(f\"Model coefficients: {', '.join([str(coef) for coef in lm.coef_])}\")\n",
    "# Najdemo indekse pozitivnih/negativnih koeficientov in jih izpišemo \n",
    "positive_coefs = (lm.coef_ > 0).nonzero()\n",
    "negative_coefs = (lm.coef_ < 0).nonzero()\n",
    "print(f\"Indices of positive coefficients: {', '.join([str(ind) for ind in positive_coefs[0]])}\")\n",
    "print(f\"Indices of negative coefficients: {', '.join([str(ind) for ind in negative_coefs[0]])}\")\n",
    "\n",
    "# Najdemo koeficient z najvišjo absolutno vrednostjo\n",
    "print(f\"Index of the coefficient with the highest absolute value: {np.argmax(np.abs(lm.coef_))}\")\n",
    "\n",
    "# Izpišemo začetno vrednost modela\n",
    "print(f\"Intercept of the model: {lm.intercept_}\")\n",
    "\n",
    "# Napaka na učni množici \n",
    "print(f\"Error on the train set: {root_mean_squared_error(y_train, lm.predict(x_train))}\")\n",
    "print(f\"Error on the test set: {root_mean_squared_error(y_test, y_pred)}\")\n",
    "print(f\"Difference between the errors: {np.abs(root_mean_squared_error(y_test, y_pred)-root_mean_squared_error(y_train, lm.predict(x_train)))}\")\n",
    "\n",
    "# Natreniramo model le na spremenljivkah, ki definirajo ciljno funkcij, pri tem si pomagamo z y_mask iz točke 1.a\n",
    "lm_opt = LinearRegression().fit(x_train[:, y_mask], y_train)\n",
    "print(f\"Error on test data for the model with only relevant features: {root_mean_squared_error(y_test, lm_opt.predict(x_test[:, y_mask]))}\")\n",
    "print(f\"Difference in error between the original model and model with only relevant features {np.abs(root_mean_squared_error(y_test, y_pred)-root_mean_squared_error(y_test, lm_opt.predict(x_test[:, y_mask])))}\")"
   ]
  },
  {
   "cell_type": "markdown",
   "metadata": {},
   "source": [
    "Odgovori:\n",
    "- S ciljno spremenljivko pozitivno korelirajo spremenljivke z indeksi 0, 1, 3, 5, 8; Negativno pa spremenljivke z indeksi 2, 4, 6, 7, 9\n",
    "- Na ciljno spremenljivko najbolj vpliva koeficient z najvišjo absolutno vrednostjo. V našem primeru je to koeficient za spremenljivko z indeksom 3\n",
    "- Ko bomo v model dali vektor ničel, bo napoved odvisna le od začetne vrednosti modela. Ta je v našem primeru 0.43614753558081554\n",
    "- Vidimo, da je napaka na testni množici 0.017694955146782265 višja kot na učni množici\n",
    "- Vidimo, da je napaka pri modelu, ki uporablja le relevantne spremenljivke za 0.0024299084093188927 nižja"
   ]
  },
  {
   "cell_type": "markdown",
   "metadata": {},
   "source": [
    "## Naloga 2: Logistična regresija"
   ]
  },
  {
   "cell_type": "markdown",
   "metadata": {},
   "source": [
    "2.a: Ustvari podatkovno množico z vsaj desetimi spremenljivkami, na kateri boš testiral pristop. Vrednosti ciljne spremenljivke naj bodo diskretne, naj vsebujejo šum in naj bodo definirane z največ 5-imi spremenljivkami.\n",
    "\n",
    "<details>\n",
    "  <summary>Namig:</summary>\n",
    "\n",
    "  *Najprej definiraj funkcijo ciljne spremenljivke, ki bo numerična. Numerične vrednosti nato diskretiziraj.*\n",
    "\n",
    "</details>"
   ]
  },
  {
   "cell_type": "code",
   "execution_count": 8,
   "metadata": {},
   "outputs": [],
   "source": [
    "# Z numpy.random.random() zgeneriramo matriko velikosti 1000x10 (1000 vrstic, 10 stolpcev)\n",
    "x = np.random.random((1000, 10))\n",
    "# Definiramo numerično ciljno spremenljivko in ji dodamo normalno porazdeljen šum z numpy.random.normal(pričakovana vrednost, standardna deviacija)\n",
    "# Z x[:, i] izberemo celoten i-ti stolpec matrike\n",
    "y_continuous = 1 + x[:, 0] * x[:, 1] - 3 * x[:, 2] +  6*x[:, 3] - 3 * x[:, 4] * x[:, 3] * x[:, 2] + np.random.normal(0, 0.2, size=1000)\n",
    "y_discrete = y_continuous > np.mean(y_continuous)\n",
    "# Definiramo masko, ki nam pove katere katere spremenljivke definirajo ciljno spremenljivko\n",
    "y_mask = [True, True, True, True, True, False, False, False, False, False]"
   ]
  },
  {
   "cell_type": "markdown",
   "metadata": {},
   "source": [
    "2.b: Podatke razdeli na učno in testno množico. Razmerje med velikostjo učne in testne množice naj bo 4:1."
   ]
  },
  {
   "cell_type": "code",
   "execution_count": 9,
   "metadata": {},
   "outputs": [],
   "source": [
    "# Izberemo prvih (4/5)*1000=800 vrstic, ki bodo sestavljale učno množico\n",
    "x_train = x[:800, :]\n",
    "y_train = y_discrete[:800]\n",
    "# Izberemo zadnjih (1/5)*1000=200 vrstic, ki bodo sestavljale testno množico\n",
    "x_test = x[800:, :]\n",
    "y_test = y_discrete[800:]"
   ]
  },
  {
   "cell_type": "markdown",
   "metadata": {},
   "source": [
    "2.c: Preveri razmerje med pozitivnimi (True) in negativnimi (False) vrednostmi ciljne spremenljivke znotraj celotne podatkovne množice, znotraj učne množice in znotraj testne množice. Se razmerja skladajo s tvojim pričakovanjem? Zakaj ja/ne?"
   ]
  },
  {
   "cell_type": "code",
   "execution_count": 10,
   "metadata": {},
   "outputs": [
    {
     "name": "stdout",
     "output_type": "stream",
     "text": [
      "Ratio between positive and negative class values in the data set: 0.8691588785046729\n",
      "Ratio between positive and negative class values in the training set: 0.8604651162790697\n",
      "Ratio between positive and negative class values in the test set: 0.9047619047619048\n"
     ]
    }
   ],
   "source": [
    "print(f\"Ratio between positive and negative class values in the data set: {np.sum(y_discrete)/(1000-np.sum(y_discrete))}\")\n",
    "print(f\"Ratio between positive and negative class values in the training set: {np.sum(y_train)/(800-np.sum(y_train))}\")\n",
    "print(f\"Ratio between positive and negative class values in the test set: {np.sum(y_test)/(200-np.sum(y_test))}\")"
   ]
  },
  {
   "cell_type": "markdown",
   "metadata": {},
   "source": [
    "Odgovor: Če ne vzorčimo iz Gaussove distribucije, lahko visoke vrednosti bolj vplivajo na povprečno vrednost kot nizke. Zato bo manj kot pol ciljnih vrednosti pozitivnih. Različna distribucija ciljnih vrednosti lahko vplivajo na točnost modela, saj ponavadi pričakujemo, da sta distribuciji ciljne spremenljivke v učni in testni množici enaki/podobni. "
   ]
  },
  {
   "cell_type": "markdown",
   "metadata": {},
   "source": [
    "2.d: Natreniraj model logistične regresije in oceni njegovo točnost na testni množici z metriko accuracy.\n",
    "\n",
    "<details>\n",
    "  <summary>Namig:</summary>\n",
    "\n",
    "  *Uporabi [napovedni model sklearn.linear_model.LogisticRegression](https://scikit-learn.org/stable/modules/generated/sklearn.linear_model.LogisticRegression.html) in [sklearn.metrics.accuracy_score()](https://scikit-learn.org/stable/modules/generated/sklearn.metrics.accuracy_score.html)*.\n",
    "\n",
    "</details>"
   ]
  },
  {
   "cell_type": "code",
   "execution_count": 11,
   "metadata": {},
   "outputs": [],
   "source": [
    "from sklearn.metrics import accuracy_score\n",
    "from sklearn.linear_model import LogisticRegression"
   ]
  },
  {
   "cell_type": "code",
   "execution_count": 12,
   "metadata": {},
   "outputs": [
    {
     "name": "stdout",
     "output_type": "stream",
     "text": [
      "Accuracy on test data: 0.93\n"
     ]
    }
   ],
   "source": [
    "# Natreniramo napovedni model logistične regresije\n",
    "lm = LogisticRegression().fit(x_train, y_train)\n",
    "\n",
    "# Napovemo ciljno spremenljivko za testne podatke\n",
    "y_pred = lm.predict(x_test)\n",
    "\n",
    "# Izpišemo accuracy modela na testnih podatkih \n",
    "print(f\"Accuracy on test data: {accuracy_score(y_test, y_pred)}\")"
   ]
  },
  {
   "cell_type": "markdown",
   "metadata": {},
   "source": [
    "2.e: Odgovori na naslednja vprašanja:\n",
    "- Kateri koeficienti spremenljivk pozitivno korelirajo s ciljno spremenljivko in kateri negativno?\n",
    "- Katera spremenljivka najbolj vpliva na napoved modela?\n",
    "- Kako bi brez klica metode LinearRegression.predict() ugotovil vrednost, ki bi jo model napovedal za vektor ničel?\n",
    "- Kolikšna je razlika med napako na učni in testni množici?\n",
    "- Koliko na točnost vplivajo spremenljivke, ki se v ciljni funkciji ne pojavijo?"
   ]
  },
  {
   "cell_type": "code",
   "execution_count": 14,
   "metadata": {},
   "outputs": [
    {
     "name": "stdout",
     "output_type": "stream",
     "text": [
      "Model coefficients: [ 0.74823289  0.83645537 -6.00007857  8.41938377 -2.18309633 -0.11268475\n",
      "  0.16032021  0.2508951  -0.03521361 -0.28193105]\n",
      "Indices of positive coefficients: 0, 1, 3, 6, 7\n",
      "Indices of negative coefficients: 2, 4, 5, 8, 9\n",
      "Index of the coefficient with the highest absolute value: 3\n",
      "Intercept of the model: -1.3340022849383473\n",
      "0.20849811095739054\n",
      "False\n",
      "Accuracy on the train set: 0.96\n",
      "Accuracy on the test set: 0.93\n",
      "Difference in accuracy: 0.029999999999999916\n",
      "Accuracy on test data for the model with only relevant features: 0.935\n",
      "Difference in accuracy between the original model and model with only relevant features 0.0050000000000000044\n"
     ]
    }
   ],
   "source": [
    "# Izpišemo koeficiente modela\n",
    "print(f\"Model coefficients: {', '.join([str(coef) for coef in lm.coef_])}\")\n",
    "# Najdemo indekse pozitivnih/negativnih koeficientov in jih izpišemo \n",
    "positive_coefs = (lm.coef_ > 0).nonzero()\n",
    "negative_coefs = (lm.coef_ < 0).nonzero()\n",
    "print(f\"Indices of positive coefficients: {', '.join([str(ind) for ind in positive_coefs[1]])}\")\n",
    "print(f\"Indices of negative coefficients: {', '.join([str(ind) for ind in negative_coefs[1]])}\")\n",
    "\n",
    "# Najdemo koeficient z najvišjo absolutno vrednostjo\n",
    "print(f\"Index of the coefficient with the highest absolute value: {np.argmax(np.abs(lm.coef_))}\")\n",
    "\n",
    "# Izpišemo začetno vrednost modela\n",
    "print(f\"Intercept of the model: {lm.intercept_[0]}\")\n",
    "print(1/(1+np.e**-lm.intercept_[0]))\n",
    "print(lm.predict(np.zeros((1,10)))[0])\n",
    "\n",
    "# Napaka na učni množici \n",
    "print(f\"Accuracy on the train set: {accuracy_score(y_train, lm.predict(x_train))}\")\n",
    "print(f\"Accuracy on the test set: {accuracy_score(y_test, y_pred)}\")\n",
    "print(f\"Difference in accuracy: {np.abs(accuracy_score(y_test, y_pred)-accuracy_score(y_train, lm.predict(x_train)))}\")\n",
    "\n",
    "# Natreniramo model le na spremenljivkah, ki definirajo ciljno funkcij, pri tem si pomagamo z y_mask iz točke 1.a\n",
    "lm_opt = LogisticRegression().fit(x_train[:, y_mask], y_train)\n",
    "print(f\"Accuracy on test data for the model with only relevant features: {accuracy_score(y_test, lm_opt.predict(x_test[:, y_mask]))}\")\n",
    "print(f\"Difference in accuracy between the original model and model with only relevant features {np.abs(accuracy_score(y_test, y_pred)-accuracy_score(y_test, lm_opt.predict(x_test[:, y_mask])))}\")"
   ]
  },
  {
   "cell_type": "markdown",
   "metadata": {},
   "source": [
    "2.f: Natreniraj model linearne regresije in ga primerjaj z modelom logistične regresije. Lahko pri napovedih opaziš kaj nenavadnega?"
   ]
  },
  {
   "cell_type": "code",
   "execution_count": 15,
   "metadata": {},
   "outputs": [],
   "source": [
    "# Vektor učne ciljne spremenljivke spremenimo v vrednosti 0 (False) in 1 (True)\n",
    "# Naj bodo na začetku vse vrednosti 0\n",
    "y_lin_train = np.zeros(y_train.shape)\n",
    "# Vrednosti, kjer je y_train True nastavimo na 1 (y_train tu deluje kot maska)\n",
    "y_lin_train[y_train] = 1.0"
   ]
  },
  {
   "cell_type": "code",
   "execution_count": 16,
   "metadata": {},
   "outputs": [
    {
     "name": "stdout",
     "output_type": "stream",
     "text": [
      "Accuracy with the linear regression model: 0.93\n",
      "Maximal predicted value: 1.2773789129561663. Minimal predicted value: -0.4247418663628819\n"
     ]
    }
   ],
   "source": [
    "# Natreniramo model linearne regresije\n",
    "lin_model = LinearRegression().fit(x_train, y_lin_train)\n",
    "# Napovemo ciljne vrednosti (numerične)\n",
    "y_lin_pred = lin_model.predict(x_test)\n",
    "# Napovedane ciljne vrednosti pretvorimo v True (y>0.5) in False (y<=0.5)\n",
    "y_pred = y_lin_pred > 0.5\n",
    "\n",
    "print(f\"Accuracy with the linear regression model: {accuracy_score(y_test, y_pred)}\")\n",
    "# Poglejmo maksimalno in minimalno vrednost, ki jo dobimo pri napovedih\n",
    "print(f\"Maximal predicted value: {np.max(y_lin_pred)}. Minimal predicted value: {np.min(y_lin_pred)}\")"
   ]
  },
  {
   "cell_type": "markdown",
   "metadata": {},
   "source": [
    "Odgovor: Opazimo lahko, da lahko model napove vrednosti, ki so višje id 1 in nižje od 0. To vpliva interpretabilnost modela, saj ne vemo, kaj pomeni vrednost 1.4 ko napovedujemo diskretno vrednost. "
   ]
  },
  {
   "cell_type": "markdown",
   "metadata": {},
   "source": [
    "## Bonus: Primerjava linearnih modelov z modelom k-najbližjih sosedov"
   ]
  },
  {
   "cell_type": "markdown",
   "metadata": {},
   "source": [
    "B.a: Premisli, kakšen vpliv ima domena/razpon podatkov na linearne modele in kakšnega na model k-najbližjih sosedov."
   ]
  },
  {
   "cell_type": "markdown",
   "metadata": {},
   "source": [
    "Odgovor: Domena/razpon podatkov ne vpliva veliko na linearne modele, saj lahko koeficiente in začetno vrednost priredimo, da bo model napovedoval ustrezne vrednosti. Na model k-najbližjih sosedov domena/razpon vpliva, saj vpliva na izračun razdalje med primeri."
   ]
  },
  {
   "cell_type": "markdown",
   "metadata": {},
   "source": [
    "B.b: Primerjaj točnost linearne regresije s točnostjo modela k-najbližjih sosedov pri napovedovanju numeričnih spremenljivk. Uporabi kodo iz naloge 1."
   ]
  },
  {
   "cell_type": "code",
   "execution_count": 25,
   "metadata": {},
   "outputs": [],
   "source": [
    "import matplotlib.pyplot as plt\n",
    "from sklearn.neighbors import KNeighborsRegressor, KNeighborsClassifier"
   ]
  },
  {
   "cell_type": "code",
   "execution_count": 26,
   "metadata": {},
   "outputs": [
    {
     "name": "stdout",
     "output_type": "stream",
     "text": [
      "Linear regression RMSE on test data: 0.32466047547441285\n",
      "KNN RMSE on test data: 0.8257041567459986\n"
     ]
    }
   ],
   "source": [
    "# Z numpy.random.random() zgeneriramo matriko velikosti 1000x10 (1000 vrstic, 10 stolpcev)\n",
    "x = np.random.random((1000, 10))\n",
    "# Definiramo ciljno spremenljivko in ji dodamo normalno porazdeljen šum z numpy.random.normal(pričakovana vrednost, standardna deviacija)\n",
    "# Z x[:, i] izberemo celoten i-ti stolpec matrike\n",
    "y = x[:, 0] * x[:, 1] - 3 * x[:, 2] +  6*x[:, 3] - 3 * x[:, 4] * x[:, 3] * x[:, 2] + np.random.normal(0, 0.2, size=1000)\n",
    "# Definiramo masko, ki nam pove katere katere spremenljivke definirajo ciljno spremenljivko\n",
    "y_mask = [True, True, True, True, True, False, False, False, False, False]\n",
    "\n",
    "# Izberemo prvih (4/5)*1000=800 vrstic, ki bodo sestavljale učno množico\n",
    "x_train = x[:800, :]\n",
    "y_train = y[:800]\n",
    "# Izberemo zadnjih (1/5)*1000=200 vrstic, ki bodo sestavljale testno množico\n",
    "x_test = x[800:, :]\n",
    "y_test = y[800:]\n",
    "\n",
    "# Natreniramo napovedni model linearne regresije in KNN\n",
    "lm = LinearRegression().fit(x_train, y_train)\n",
    "knn = KNeighborsRegressor().fit(x_train, y_train)\n",
    "\n",
    "# Napovemo ciljno spremenljivko za testne podatke\n",
    "y_pred_lr = lm.predict(x_test)\n",
    "y_pred_knn = knn.predict(x_test)\n",
    "\n",
    "# Izpišemo RMSE modela na testnih podatkih \n",
    "print(f\"Linear regression RMSE on test data: {root_mean_squared_error(y_test, y_pred_lr)}\")\n",
    "print(f\"KNN RMSE on test data: {root_mean_squared_error(y_test, y_pred_knn)}\")"
   ]
  },
  {
   "cell_type": "markdown",
   "metadata": {},
   "source": [
    "B.c: Primerjaj točnost logistične regresije s točnostjo modela k-najbližjih sosedov pri napovedovanju diskretnih spremenljivk. Uporabi kodo iz naloge 2."
   ]
  },
  {
   "cell_type": "code",
   "execution_count": 27,
   "metadata": {},
   "outputs": [
    {
     "name": "stdout",
     "output_type": "stream",
     "text": [
      "Logistic regression accuracy on test data: 0.945\n",
      "KNN accuracy on test data: 0.865\n"
     ]
    }
   ],
   "source": [
    "# Z numpy.random.random() zgeneriramo matriko velikosti 1000x10 (1000 vrstic, 10 stolpcev)\n",
    "x = np.random.random((1000, 10))\n",
    "# Definiramo numerično ciljno spremenljivko in ji dodamo normalno porazdeljen šum z numpy.random.normal(pričakovana vrednost, standardna deviacija)\n",
    "# Z x[:, i] izberemo celoten i-ti stolpec matrike\n",
    "y_continuous = 1 + x[:, 0] * x[:, 1] - 3 * x[:, 2] +  6*x[:, 3] - 3 * x[:, 4] * x[:, 3] * x[:, 2] + np.random.normal(0, 0.2, size=1000)\n",
    "y_discrete = y_continuous > np.mean(y_continuous)\n",
    "# Definiramo masko, ki nam pove katere katere spremenljivke definirajo ciljno spremenljivko\n",
    "y_mask = [True, True, True, True, True, False, False, False, False, False]\n",
    "\n",
    "# Izberemo prvih (4/5)*1000=800 vrstic, ki bodo sestavljale učno množico\n",
    "x_train = x[:800, :]\n",
    "y_train = y_discrete[:800]\n",
    "# Izberemo zadnjih (1/5)*1000=200 vrstic, ki bodo sestavljale testno množico\n",
    "x_test = x[800:, :]\n",
    "y_test = y_discrete[800:]\n",
    "\n",
    "# Natreniramo napovedni model logistične regresije in KNN\n",
    "lm = LogisticRegression().fit(x_train, y_train)\n",
    "knn = KNeighborsClassifier().fit(x_train, y_train)\n",
    "\n",
    "# Napovemo ciljno spremenljivko za testne podatke\n",
    "y_pred_lr = lm.predict(x_test)\n",
    "y_pred_knn = knn.predict(x_test)\n",
    "\n",
    "# Izpišemo Accuracy modela na testnih podatkih \n",
    "print(f\"Logistic regression accuracy on test data: {accuracy_score(y_test, y_pred_lr)}\")\n",
    "print(f\"KNN accuracy on test data: {accuracy_score(y_test, y_pred_knn)}\")"
   ]
  },
  {
   "cell_type": "markdown",
   "metadata": {},
   "source": [
    "B.d: Najdi omejitev, ki se pojavi pri linearni regresiji in se ne pojavi pri modelu k-najbližjih sosedov in omejitev, ki se pojavi pri modelu k-najbližjih sosedov in se ne pojavi pri linearni regresiji."
   ]
  },
  {
   "cell_type": "code",
   "execution_count": 23,
   "metadata": {},
   "outputs": [
    {
     "data": {
      "image/png": "[encoded data removed]",
      "text/plain": [
       "<Figure size 640x480 with 1 Axes>"
      ]
     },
     "metadata": {},
     "output_type": "display_data"
    }
   ],
   "source": [
    "# Naključno vzorčimo točke iz domene [-5, 5]. Vzorce iz [0, 1] pomnožimo tako da jih pomnožimo z 10 in potem premaknemo z -5 \n",
    "x = np.random.random(size=1000) * 10 - 5\n",
    "# Definiramo ciljno spremenljivko\n",
    "y = x ** 2\n",
    "# Natreniramo modela linearne regresije in k-najbližjih sosedov. Naš x je 1D, metoda fit pa pričakuje 2D matriko. Naš x pretvorimo v 2D z x[:, None] (mu dodamo navidezno dimenzijo)\n",
    "linear_regression_model = LinearRegression().fit(x[:, None], y)\n",
    "knn_model = KNeighborsRegressor(n_neighbors=5).fit(x[:, None], y)\n",
    "\n",
    "# Naključno vzorčimo testne podatke iz domene [-5, 5]\n",
    "x_test = np.random.random(size=1000) * 10 - 5\n",
    "# Napovemo vrednosti z obema modeloma\n",
    "y_lr = linear_regression_model.predict(x_test[:, None])\n",
    "y_knn = knn_model.predict(x_test[:, None])\n",
    "\n",
    "# Vizualiziramo vse tri krivulje (y in napovedane vrednosti) z funkcijo plt.scatter(). Parameter s definira velikost točk na grafu\n",
    "plt.scatter(x=x, y=y, s=30)\n",
    "plt.scatter(x=x_test, y=y_lr, s=5)\n",
    "plt.scatter(x=x_test, y=y_knn, s=5)\n",
    "# Pokažemo graf\n",
    "plt.show()"
   ]
  },
  {
   "cell_type": "markdown",
   "metadata": {},
   "source": [
    "Odgovor: Na sliki lahko vidimo primer, ko je ciljna spremenljivka definirana s funkcijo x^2 (modra krivulja). Linearni model (oranžna krivulja) bo slabo napovedal tako ciljno spremenljivko, saj ta ni linearna. Nasprotno, model k-najbližjih (zelena krivulja) bo vrednost napovedal glede na najbližje primere v učni množici in zato vrednost ciljne spremenljivke dobro napovedal."
   ]
  },
  {
   "cell_type": "code",
   "execution_count": 24,
   "metadata": {},
   "outputs": [
    {
     "data": {
      "image/png": "[encoded data removed]",
      "text/plain": [
       "<Figure size 640x480 with 1 Axes>"
      ]
     },
     "metadata": {},
     "output_type": "display_data"
    }
   ],
   "source": [
    "# Naključno vzorčimo podatke iz domene [-2, 2]\n",
    "x = np.random.random(size=1000) * 4 - 2\n",
    "# Definiramo ciljno spremenljivko kot x + šum\n",
    "y = x + np.random.normal(0, 0.2)\n",
    "# Natreniramo modela\n",
    "linear_regression_model = LinearRegression().fit(x[:, None], y)\n",
    "knn_model = KNeighborsRegressor(n_neighbors=5).fit(x[:, None], y)\n",
    "\n",
    "# Naključno vzorčimo testne podatke iz domene [10, 14] in izračunamo ciljne vrednosti\n",
    "x_test = np.random.random(size=100) * 4 + 10\n",
    "y_test = x_test + np.random.normal(0, 0.2)\n",
    "# Napovemo ciljne vrednosti\n",
    "y_lr = linear_regression_model.predict(x_test[:, None])\n",
    "y_knn = knn_model.predict(x_test[:, None])\n",
    "\n",
    "# Konkateniramo (združimo) učne in testne podatke\n",
    "x = np.concatenate([x, x_test])\n",
    "y = np.concatenate([y, y_test])\n",
    "\n",
    "# Vizualiziramo učne, testne podatke in napovedi obeh modelov\n",
    "plt.scatter(x=x, y=y, s=30)\n",
    "plt.scatter(x=x_test, y=y_lr, s=5)\n",
    "plt.scatter(x=x_test, y=y_knn, s=5)\n",
    "plt.show()"
   ]
  },
  {
   "cell_type": "markdown",
   "metadata": {},
   "source": [
    "Odgovor: Na sliki lahko vidimo primer, ko je ciljna spremenljivka definirana s funkcijo x + šum (modra krivulja). Domena učne množice je [-2, 2], domena testne množice pa [10, 14]. Vidimo lahko da bo model linearne regresije (oranžna krivulja) vrednosti dobro napovedal, model k-najbližjih sosedov (zelena krivulja) pa slabo. Razlog za slabe napovedi modela k-najbližjih sosedov je, da je napoved sestavljena kot povprečje najbližjih sosedov, ki so iz druge domene."
   ]
  }
 ],
 "metadata": {
  "kernelspec": {
   "display_name": "ITAP24",
   "language": "python",
   "name": "python3"
  },
  "language_info": {
   "codemirror_mode": {
    "name": "ipython",
    "version": 3
   },
   "file_extension": ".py",
   "mimetype": "text/x-python",
   "name": "python",
   "nbconvert_exporter": "python",
   "pygments_lexer": "ipython3",
   "version": "3.10.13"
  }
 },
 "nbformat": 4,
 "nbformat_minor": 2
}
