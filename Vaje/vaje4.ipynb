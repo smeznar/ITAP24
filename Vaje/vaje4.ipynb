{
 "cells": [
  {
   "cell_type": "markdown",
   "metadata": {},
   "source": [
    "# Vaje 4: Posebnosti binarne klasifikacije in odločitvena drevesa"
   ]
  },
  {
   "cell_type": "markdown",
   "metadata": {},
   "source": [
    "## Naloga 1: Mere kakovosti"
   ]
  },
  {
   "cell_type": "code",
   "execution_count": null,
   "metadata": {},
   "outputs": [],
   "source": [
    "import numpy as np\n",
    "\n",
    "data = np.load(\"../Podatki/vaje4_1.npy\")\n",
    "X = data[:, :-1]\n",
    "y =data[:, -1].astype(bool)"
   ]
  },
  {
   "cell_type": "markdown",
   "metadata": {},
   "source": [
    "1.a: Najdi najboljšo vrednost parametra k za napovedni model k najbližjih sosedov v primeru, ko za mero kakovosti izberemo natančnost (precision), priklic, ali ploščino pod ROC krivuljo (AUC ROC). Za oceno napake uporabi 5 kratno prečno preverjanje.\n",
    "\n",
    "<details>\n",
    "  <summary>Namig:</summary>\n",
    "\n",
    "  *Pomagaj si s [funkcijami sklearn.metrics.precision_score](https://scikit-learn.org/stable/modules/generated/sklearn.metrics.precision_score.html), [sklearn.metrics.recall_score](https://scikit-learn.org/stable/modules/generated/sklearn.metrics.recall_score.html), [sklearn.metrics.roc_auc_score](https://scikit-learn.org/stable/modules/generated/sklearn.metrics.roc_auc_score.html).\n",
    "   \n",
    "</details>"
   ]
  },
  {
   "cell_type": "code",
   "execution_count": null,
   "metadata": {},
   "outputs": [],
   "source": []
  },
  {
   "cell_type": "markdown",
   "metadata": {},
   "source": [
    "1.b: Najdi najboljšo vrednost parametra k v primeru, ko za mero kakovosti izberemo najmanjšo ceno modela, kjer predpostavljamo, da je napaka tipa 1 dvakrat dražja od napake tipa 2. Napako tipa 1 (zmotno pozitivni)  merite kot delež tistih negativnih primerov, ki so bili zmotno razglašeni za pozitivne. Analogno definirajte napako tipa 2 (zmotno negativni). Končna napaka naj bo torej vsota 2 N1 + N2. Postopate lahko podobno kot zgoraj pri natančnosti. Pomagaš si lahko s funkcijama `numpy.logical_not` in `numpy.logical_and`."
   ]
  },
  {
   "cell_type": "code",
   "execution_count": null,
   "metadata": {},
   "outputs": [],
   "source": []
  },
  {
   "cell_type": "markdown",
   "metadata": {},
   "source": [
    "1.c: Pri katerih nalogah v resničnem življenju se splača bolj utežiti N1 in pri katerih N2? Kaj je bolj važno za npr. teste, ki zaznavajo okužbe?"
   ]
  },
  {
   "cell_type": "markdown",
   "metadata": {},
   "source": [
    "## Naloga 2: ROC"
   ]
  },
  {
   "cell_type": "markdown",
   "metadata": {},
   "source": [
    "2.a: Nariši ROC krivuljo za naslednje podatke\n",
    "\n",
    "| Napoved  | Ciljna spremenljivka |\n",
    "| -------- | ----------- |\n",
    "| 0.9      | T       |\n",
    "| 0.7      | F       |\n",
    "| 0.7      | T       |\n",
    "| 0.5      | F       |\n",
    "| 0.3      | T       |\n",
    "| 0.2      | T       |\n",
    "| 0.2      | F       |\n",
    "| 0.1      | F       |\n"
   ]
  },
  {
   "cell_type": "markdown",
   "metadata": {},
   "source": [
    "2.b: Koliko je točnost modela iz 2.a glede na metriko ROC-AUC."
   ]
  },
  {
   "cell_type": "markdown",
   "metadata": {},
   "source": [
    "## Naloga 3: Odločitvena drevesa"
   ]
  },
  {
   "cell_type": "markdown",
   "metadata": {},
   "source": [
    "3.a: Sestavi podatkovno množico, ki bo \"šla na roko\" odločitvenim drevesom. Pomagaj si s funkcijami `numpy.random.randint` in logičnimi operatorji `numpy.logical_not`, ..."
   ]
  },
  {
   "cell_type": "code",
   "execution_count": null,
   "metadata": {},
   "outputs": [],
   "source": []
  },
  {
   "cell_type": "markdown",
   "metadata": {},
   "source": [
    "3.b: Preveri točnost odločitvenih dreves na podatkovni množici iz naloge 3.a. Za vsak vzorec prečnega preverjanja izriši tabela napačnih klasifikacij (confusion matrix).\n",
    "\n",
    "<details>\n",
    "  <summary>Namig:</summary>\n",
    "\n",
    "  *Pomagaj si z [objektom sklearn.tree.DecisionTreeClassifier](https://scikit-learn.org/stable/modules/generated/sklearn.tree.DecisionTreeClassifier.html) in [objektom sklearn.tree.ConfusionMatrixDisplay](https://scikit-learn.org/stable/modules/generated/sklearn.metrics.ConfusionMatrixDisplay.html)*.\n",
    "   \n",
    "</details>"
   ]
  },
  {
   "cell_type": "code",
   "execution_count": null,
   "metadata": {},
   "outputs": [],
   "source": []
  },
  {
   "cell_type": "markdown",
   "metadata": {},
   "source": [
    "3.c: Natreniraj model odločitvenih dreves na vseh podatkih in drevo vizualiziraj. Lahko v nastalem drevesu najdete vsa pravila iz naloge 3.a?\n",
    "\n",
    "<details>\n",
    "  <summary>Namig:</summary>\n",
    "\n",
    "  *Pomagaj si z [objektom sklearn.tree.plot_tree](https://scikit-learn.org/stable/modules/generated/sklearn.tree.plot_tree.html)*.\n",
    "   \n",
    "</details>"
   ]
  },
  {
   "cell_type": "code",
   "execution_count": null,
   "metadata": {},
   "outputs": [],
   "source": []
  },
  {
   "cell_type": "markdown",
   "metadata": {},
   "source": [
    "3.d: Naključno izberi 5 vrstic iz podatkovne množice in jim spremeni ciljno vrednost. Natreniraj model odločitvenih dreves z višino največ 4 in ga ponovno vizualiziraj. Vidiš kakšno razliko v listih drevesa?"
   ]
  }
 ],
 "metadata": {
  "language_info": {
   "name": "python"
  }
 },
 "nbformat": 4,
 "nbformat_minor": 2
}
