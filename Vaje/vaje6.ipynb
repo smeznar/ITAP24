{
 "cells": [
  {
   "cell_type": "markdown",
   "metadata": {},
   "source": [
    "# Vaje 6: Rezanje odločitvenih dreves in ansambli"
   ]
  },
  {
   "cell_type": "markdown",
   "metadata": {},
   "source": [
    "## Naloga 1: Rezanje dreves"
   ]
  },
  {
   "cell_type": "code",
   "execution_count": null,
   "metadata": {},
   "outputs": [],
   "source": [
    "import numpy as np\n",
    "\n",
    "np.random.seed(18)\n",
    "X = np.random.random(size=(1000, 9))\n",
    "y = 1 + X[:, 0] - 2* X[:, 4] + 5 * (X[:, 3] * X[:, 4] - X[:, 5]*X[:, 8]) + np.random.normal(scale=5)\n",
    "y = y > y.mean() "
   ]
  },
  {
   "cell_type": "markdown",
   "metadata": {},
   "source": [
    "1.a: Preveri točnost odločilnih dreves na napovednih spremenljivkah $X$ in ciljnih vrednostih $y$."
   ]
  },
  {
   "cell_type": "code",
   "execution_count": null,
   "metadata": {},
   "outputs": [],
   "source": []
  },
  {
   "cell_type": "markdown",
   "metadata": {},
   "source": [
    "1.b: S sprotnim rezanjem poskrbi, da se naučen napovedn model ne bo preprilegal podatkom. Uporabi parameter `min_samples_split`, ki določi najmanjše število primerov v listu pri katerem se list naprej deli."
   ]
  },
  {
   "cell_type": "code",
   "execution_count": null,
   "metadata": {},
   "outputs": [],
   "source": []
  },
  {
   "cell_type": "markdown",
   "metadata": {},
   "source": [
    "1.c: Najdi ustrezno vrednost parametra cp (`ccp_alpha` v sklearn) za naknadno rezanje odločitvenega drevesa."
   ]
  },
  {
   "cell_type": "code",
   "execution_count": null,
   "metadata": {},
   "outputs": [],
   "source": []
  },
  {
   "cell_type": "markdown",
   "metadata": {},
   "source": [
    "## Naloga 2: Naključni gozd"
   ]
  },
  {
   "cell_type": "markdown",
   "metadata": {},
   "source": [
    "2.a: Na podatkih iz naloge 1 preizkusi točnost napovednega modela naključnega gozda. Preveri še kako dobro lahko točnost preverimo na OOB množici (parameter `oob_score` in atribut `oob_score_`).\n",
    "\n",
    "<details>\n",
    "  <summary>Namig:</summary>\n",
    "\n",
    "  *Pomagaj si z [modelom sklearn.ensemble.RandomForestClassifier](https://scikit-learn.org/stable/modules/generated/sklearn.ensemble.RandomForestClassifier.html).\n",
    "   \n",
    "</details>"
   ]
  },
  {
   "cell_type": "code",
   "execution_count": null,
   "metadata": {},
   "outputs": [],
   "source": []
  },
  {
   "cell_type": "markdown",
   "metadata": {},
   "source": [
    "2.b: Nariši grafa, ki prikazujeta kako se točnost (in točnost na OOB množici) spreminjajo glede na število dreves (`n_estimators`) in parameter mtry (`max_features`)"
   ]
  },
  {
   "cell_type": "code",
   "execution_count": null,
   "metadata": {},
   "outputs": [],
   "source": []
  },
  {
   "cell_type": "markdown",
   "metadata": {},
   "source": [
    "2.c: Natreniraj model naključnega gozda na vseh podatkih, preveri njegovo točnost na OOB množici in poglej relevantnost spremenljivk (atribut `feature_importances_`). Se relevantnost spremenljivk ujema z definicijo ciljne funkcije $1 + X_1 - 2* X_5 + 5 * (X_4 * X_5 - X_6*X_9)$?"
   ]
  },
  {
   "cell_type": "code",
   "execution_count": null,
   "metadata": {},
   "outputs": [],
   "source": []
  },
  {
   "cell_type": "markdown",
   "metadata": {},
   "source": [
    "## Naloga 3: Vrečenje (Bagging)"
   ]
  },
  {
   "cell_type": "markdown",
   "metadata": {},
   "source": [
    "3.a: Preizkusi model vrečenja z modelom odločitvenega drevesa. Kako se model primerja z modelom naključnega gozda?"
   ]
  },
  {
   "cell_type": "code",
   "execution_count": null,
   "metadata": {},
   "outputs": [],
   "source": []
  },
  {
   "cell_type": "markdown",
   "metadata": {},
   "source": [
    "3.b: Na podoben način lahko vrečimo tudi druge modele. Preveri točnost ansambla, ki ga sestavimo iz modelov podpornih vektorjev in ansambel modelov logistične regresije."
   ]
  },
  {
   "cell_type": "code",
   "execution_count": null,
   "metadata": {},
   "outputs": [],
   "source": []
  }
 ],
 "metadata": {
  "language_info": {
   "name": "python"
  }
 },
 "nbformat": 4,
 "nbformat_minor": 2
}
