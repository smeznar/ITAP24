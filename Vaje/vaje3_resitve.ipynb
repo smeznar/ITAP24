{
 "cells": [
  {
   "cell_type": "markdown",
   "metadata": {},
   "source": [
    "# Vaje 3: Merjenje napovedne napake modela"
   ]
  },
  {
   "cell_type": "markdown",
   "metadata": {},
   "source": [
    "## Naloga 1: Prečno preverjanje in stabilnost modela"
   ]
  },
  {
   "cell_type": "code",
   "execution_count": 1,
   "metadata": {},
   "outputs": [],
   "source": [
    "import numpy as np\n",
    "\n",
    "# Preberemo podatke shranje v numpy formatu (s funkcijo numpy.save(pot, array))\n",
    "data = np.load(\"../Podatki/vaje3_1.npy\")\n",
    "X = data[:, :-1]\n",
    "y = data[:, -1]"
   ]
  },
  {
   "cell_type": "markdown",
   "metadata": {},
   "source": [
    "1.a: Preveri (povprečno) točnost linearne regresije s petkratnim prečnim preverjanjem. Kako stabilen je model oz. kakšna je varianca dobljenih napak?\n",
    "\n",
    "<details>\n",
    "  <summary>Namig:</summary>\n",
    "\n",
    "  *Pomagaj si z [objektom sklearn.model_selection.KFold](https://scikit-learn.org/stable/modules/generated/sklearn.model_selection.KFold.html) in njegovo metodo split(X)*.\n",
    "   \n",
    "</details>"
   ]
  },
  {
   "cell_type": "code",
   "execution_count": 2,
   "metadata": {},
   "outputs": [],
   "source": [
    "# Importamo KFold objekt, linearno regresijo in metriko MSE\n",
    "from sklearn.model_selection import KFold\n",
    "from sklearn.linear_model import LinearRegression\n",
    "from sklearn.metrics import mean_squared_error"
   ]
  },
  {
   "cell_type": "code",
   "execution_count": 3,
   "metadata": {},
   "outputs": [
    {
     "name": "stdout",
     "output_type": "stream",
     "text": [
      "Fold 0: RMSE 0.18960165232406972\n",
      "Fold 1: RMSE 0.1863886412398821\n",
      "Fold 2: RMSE 0.19605889866247667\n",
      "Fold 3: RMSE 0.17717484439089284\n",
      "Fold 4: RMSE 0.17002566428275065\n",
      "Mean RMSE: 0.1838499401800144\n",
      "Variance of RMSE: 8.485067415271e-05\n"
     ]
    }
   ],
   "source": [
    "# Inicializiramo KFold objekt in določimo število vzorcev, ki jih bo naredil (5)\n",
    "kfold = KFold(n_splits=5)\n",
    "# Inicializiramo list v katerega bomo shranjevali napake\n",
    "errors = []\n",
    "# Dobimo indekse učnih in testnih podatkov z metodo kfold.split(množica)\n",
    "# Z enumerate indeksiramo fold, v katerem smo\n",
    "for i, (train_index, test_index) in enumerate(kfold.split(X)):\n",
    "    # Z array-em train_index izberemo podatke za učno množico\n",
    "    x_train = X[train_index, :]\n",
    "    y_train = y[train_index]\n",
    "    # Z array-em test_index izberemo podatke za testno množico\n",
    "    x_test = X[test_index, :]\n",
    "    y_test = y[test_index]\n",
    "    # Natreniramo model linearne regresije\n",
    "    model = LinearRegression().fit(x_train, y_train)\n",
    "    # Napovemo ciljno vrednost testnih podatkov\n",
    "    y_pred = model.predict(x_test)\n",
    "    # Izračunamo RMSE testnih podatkov\n",
    "    error = np.sqrt(mean_squared_error(y_test, y_pred))\n",
    "    # Napako shranimo v list errors\n",
    "    errors.append(error)\n",
    "    \n",
    "    print(f\"Fold {i}: RMSE {error}\")\n",
    "    \n",
    "# Izpišemo povprečno vrednost in varianco napak\n",
    "print(f\"Mean RMSE: {np.mean(errors)}\")\n",
    "print(f\"Variance of RMSE: {np.var(errors)}\")"
   ]
  },
  {
   "cell_type": "markdown",
   "metadata": {},
   "source": [
    "1.b: S prečnim preverjanjem sestavi pet modelov linearne regresije ter si (v matriko velikosti 5x4) shrani njihove začetne vrednosti in koeficiente. Se istoležni koeficienti v različnih vzorcih (Foldih) razlikujejo? Za koliko?"
   ]
  },
  {
   "cell_type": "code",
   "execution_count": 4,
   "metadata": {},
   "outputs": [
    {
     "name": "stdout",
     "output_type": "stream",
     "text": [
      "Coefficients:\n",
      "[[-0.18415939  1.50743854  2.43282336  1.47957335]\n",
      " [-0.19639105  1.52647655  2.4416169   1.47915122]\n",
      " [-0.16964682  1.51169294  2.4205532   1.46727743]\n",
      " [-0.15786318  1.48666751  2.43633069  1.47178237]\n",
      " [-0.18573746  1.49966098  2.42805102  1.50079499]]\n",
      "Variance: [1.81683894e-04 1.73389256e-04 5.16926167e-05 1.32464774e-04]\n",
      "Mean variance: 0.000134807634997536\n"
     ]
    }
   ],
   "source": [
    "# Inicializiramo KFold objekt in določimo število vzorcev, ki jih bo naredil (5)\n",
    "kfold = KFold(n_splits=5)\n",
    "# Inicializiramo array, v katerega bomo shranjevali koeficiente. Ta ima 5 vrstic (saj delamo petkratno prečno preverjanje) in 4 stolpce (začetna vrednost + 3 koeficienti)\n",
    "coeffs = np.zeros((5, 4))\n",
    "# Dobimo indekse učnih in testnih podatkov z metodo kfold.split(množica)\n",
    "for i, (train_index, test_index) in enumerate(kfold.split(X)):\n",
    "    # Izberemo učno\n",
    "    x_train = X[train_index, :]\n",
    "    y_train = y[train_index]\n",
    "    # Natreniramo model linearne regresije\n",
    "    model = LinearRegression().fit(x_train, y_train)\n",
    "    # Začetno vrednost shranimo v prvi stolpec\n",
    "    coeffs[i, 0] = model.intercept_\n",
    "    # Koeficiente shranimo v stolpce 1, 2 in 3\n",
    "    coeffs[i, 1:] = model.coef_\n",
    "\n",
    "# Izpišemo koeficiente\n",
    "print(\"Coefficients:\")\n",
    "print(coeffs)\n",
    "# Izpišemo variance, axis=0 poskrbi, da varianco zračunamo glede na stolpce (po 0-ti dimenziji)\n",
    "print(f\"Variance: {np.var(coeffs, axis=0)}\")\n",
    "# Izpišemo povprečno vrednost varianc\n",
    "print(f\"Mean variance: {np.mean(np.var(coeffs, axis=0))}\")"
   ]
  },
  {
   "cell_type": "markdown",
   "metadata": {},
   "source": [
    "1.c: Podatkom dodaj spremenljivke drugega reda ($x_1^2$, $x_1\\cdot x_2$, $x_1\\cdot x_3$, $x_2^2$, ...). Stolpce lahko združiš s funkcijo numpy.concatenate(seznam stolpcev, axis=1). "
   ]
  },
  {
   "cell_type": "code",
   "execution_count": 5,
   "metadata": {},
   "outputs": [],
   "source": [
    "# Definiramo list, ki bo vseboval stolpce in vanj damo začetne podatke\n",
    "columns = [X]\n",
    "# Gremo čez vse kombinacije stolpcev (00,01,02,11,12,22)\n",
    "for i in range(3):\n",
    "    for j in range(i, 3):\n",
    "        # Izračunamo novo spremenljivko x_i*x_j\n",
    "        # X[:, i]*X[:, j] nam vrne 1D matriko, želimo pa 2D matriko. 1D matriko A velikosti n lahko v 2D matriko velikosti nx1 spremenimo z ukazom A[:, None].\n",
    "        # 1D matiko A velikosti n, bi lahko v 2D matiko velikosti 1xn spremenili z ukazom A[None, :]\n",
    "        x_new = (X[:, i]*X[:, j])[:, None]\n",
    "        # Nov stolpec dodamo v list columns\n",
    "        columns.append(x_new)\n",
    "\n",
    "# Stolpce združimo v 2D matiko z ukazom numpy.concatenate(). Z axis=1 povemo, da hočemo združit glede na 1-vo dimenzijo.\n",
    "X2 = np.concatenate(columns, axis=1)\n",
    "        "
   ]
  },
  {
   "cell_type": "markdown",
   "metadata": {},
   "source": [
    "1.d: Preveri točnost linearne regresije na podatkih iz naloge 1.c s petkratnim prečnim preverjanjem. So koeficienti modela bolj ali manj razlikujejo med različnimi vzorci?"
   ]
  },
  {
   "cell_type": "code",
   "execution_count": 6,
   "metadata": {},
   "outputs": [
    {
     "name": "stdout",
     "output_type": "stream",
     "text": [
      "Fold 0 RMSE 0.10714941463868283\n",
      "Fold 1 RMSE 0.1171339110187921\n",
      "Fold 2 RMSE 0.1105842934064686\n",
      "Fold 3 RMSE 0.10727072639075325\n",
      "Fold 4 RMSE 0.11280266577829533\n",
      "Mean RMSE 0.11098820224659842\n",
      "RMSE variance 1.3956214721817903e-05\n",
      "Coefficient mean: [-0.16003666  1.81634349  2.65368046  1.64783266 -0.76940341  0.9713595\n",
      " -0.0338234  -1.05901487  0.67275282 -0.48365751]\n",
      "Variance of coefficients: [0.00016214 0.00103623 0.00027615 0.0002361  0.00021888 0.00046882\n",
      " 0.00017924 0.0005724  0.00036726 0.00037009]\n"
     ]
    }
   ],
   "source": [
    "kfold = KFold(n_splits=5)\n",
    "coeffs = np.zeros((5, X2.shape[1]+1))\n",
    "errors = []\n",
    "\n",
    "for i, (train_idx, test_idx) in enumerate(kfold.split(X2)):\n",
    "    x_train = X2[train_idx, :]\n",
    "    y_train = y[train_idx]\n",
    "    x_test = X2[test_idx, :]\n",
    "    y_test = y[test_idx]\n",
    "    model = LinearRegression().fit(x_train, y_train)\n",
    "    coeffs[i, 0] = model.intercept_\n",
    "    coeffs[i, 1:] = model.coef_\n",
    "\n",
    "    y_pred = model.predict(x_test)\n",
    "    error = np.sqrt(mean_squared_error(y_test, y_pred))\n",
    "    \n",
    "    print(f\"Fold {i} RMSE {error}\")\n",
    "    errors.append(error)\n",
    "\n",
    "print(f\"Mean RMSE {np.mean(errors)}\")\n",
    "print(f\"RMSE variance {np.var(errors)}\")\n",
    "print(f\"Coefficient mean: {np.mean(coeffs, axis=0)}\")\n",
    "print(f\"Variance of coefficients: {np.var(coeffs, axis=0)}\")"
   ]
  },
  {
   "cell_type": "markdown",
   "metadata": {},
   "source": [
    "## Naloga 2:  Stratificirano vzorčenje"
   ]
  },
  {
   "cell_type": "code",
   "execution_count": 7,
   "metadata": {},
   "outputs": [],
   "source": [
    "# Preberemo podatke iz datoteke vaje3_2.npz. Podatke x, y lahko shranimo v datoteko s končnico npz z uporabo funkcije numpy.savez(pot, x=x, y=y)\n",
    "data = np.load(\"../Podatki/vaje3_2.npz\")\n",
    "# Podatke shranimo v spremenljivko x\n",
    "x = data[\"x\"]\n",
    "# Ciljne vrednosti shranimo v spremenljivko y\n",
    "y = data[\"y\"]"
   ]
  },
  {
   "cell_type": "markdown",
   "metadata": {},
   "source": [
    "2.a: Preveri točnost logistične regresije s petkratnim prečnim preverjanjem. Izpiši točnost modela glede na metriko \"klasifikacijska točnost\" (accuracy) v vsakem vzorcu. Opaziš kaj nenavadnega?"
   ]
  },
  {
   "cell_type": "code",
   "execution_count": 8,
   "metadata": {},
   "outputs": [],
   "source": [
    "from sklearn.linear_model import LogisticRegression\n",
    "from sklearn.metrics import accuracy_score"
   ]
  },
  {
   "cell_type": "code",
   "execution_count": 9,
   "metadata": {},
   "outputs": [
    {
     "name": "stdout",
     "output_type": "stream",
     "text": [
      "Fold 0: RMSE 1.0\n",
      "Fold 1: RMSE 1.0\n",
      "Fold 2: RMSE 1.0\n",
      "Fold 3: RMSE 0.66\n",
      "Fold 4: RMSE 0.0\n",
      "Mean accuracy: 0.732\n"
     ]
    }
   ],
   "source": [
    "# Inicializiramo KFold objekt in določimo število vzorcev, ki jih bo naredil (5)\n",
    "kfold = KFold(n_splits=5)\n",
    "# Inicializiramo list v katerega bomo shranjevali napake\n",
    "errors = []\n",
    "# Dobimo indekse učnih in testnih podatkov z metodo kfold.split(množica)\n",
    "# Z enumerate indeksiramo fold, v katerem smo\n",
    "for i, (train_index, test_index) in enumerate(kfold.split(x)):\n",
    "    # Z array-em train_index izberemo podatke za učno množico\n",
    "    x_train = x[train_index, :]\n",
    "    y_train = y[train_index]\n",
    "    # Z array-em test_index izberemo podatke za testno množico\n",
    "    x_test = x[test_index, :]\n",
    "    y_test = y[test_index]\n",
    "    # Natreniramo model linearne regresije\n",
    "    model = LogisticRegression().fit(x_train, y_train)\n",
    "    # Napovemo ciljno vrednost testnih podatkov\n",
    "    y_pred = model.predict(x_test)\n",
    "    # Izračunamo RMSE testnih podatkov\n",
    "    error = accuracy_score(y_test, y_pred)\n",
    "    # Napako shranimo v list errors\n",
    "    errors.append(error)\n",
    "    \n",
    "    print(f\"Fold {i}: RMSE {error}\")\n",
    "    \n",
    "# Izpišemo povprečno vrednost in varianco napak\n",
    "print(f\"Mean accuracy: {np.mean(errors)}\")\n"
   ]
  },
  {
   "cell_type": "markdown",
   "metadata": {},
   "source": [
    "2.b: Za vsak vzorec podatkov izpiši število pozitivnih in negativnih vrednosti ciljne spremenljivke v učni in testni množici. Zakaj se je točnost modela v nalogi 2.a tako razlikovala med različnimi vzorci?"
   ]
  },
  {
   "cell_type": "code",
   "execution_count": 10,
   "metadata": {},
   "outputs": [
    {
     "name": "stdout",
     "output_type": "stream",
     "text": [
      "Fold 0\n",
      "Train set: 201.0 positive, 599.0 negative\n",
      "Test set: 0.0 positive, 200.0 negative\n",
      "\n",
      "Fold 1\n",
      "Train set: 201.0 positive, 599.0 negative\n",
      "Test set: 0.0 positive, 200.0 negative\n",
      "\n",
      "Fold 2\n",
      "Train set: 201.0 positive, 599.0 negative\n",
      "Test set: 0.0 positive, 200.0 negative\n",
      "\n",
      "Fold 3\n",
      "Train set: 200.0 positive, 600.0 negative\n",
      "Test set: 1.0 positive, 199.0 negative\n",
      "\n",
      "Fold 4\n",
      "Train set: 1.0 positive, 799.0 negative\n",
      "Test set: 200.0 positive, 0.0 negative\n",
      "\n"
     ]
    }
   ],
   "source": [
    "# Inicializiramo KFold objekt in določimo število vzorcev, ki jih bo naredil (5)\n",
    "kfold = KFold(n_splits=5)\n",
    "# Inicializiramo list v katerega bomo shranjevali napake\n",
    "errors = []\n",
    "# Dobimo indekse učnih in testnih podatkov z metodo kfold.split(množica)\n",
    "# Z enumerate indeksiramo fold, v katerem smo\n",
    "for i, (train_index, test_index) in enumerate(kfold.split(X)):\n",
    "    # Z array-em train_index izberemo podatke za učno množico\n",
    "    y_train = y[train_index]\n",
    "    # Z array-em test_index izberemo podatke za testno množico\n",
    "    y_test = y[test_index]\n",
    "    print(f\"Fold {i}\")\n",
    "    print(f\"Train set: {y_train.sum()} positive, {y_train.shape[0] - y_train.sum()} negative\")\n",
    "    print(f\"Test set: {y_test.sum()} positive, {y_test.shape[0] - y_test.sum()} negative\")\n",
    "    print()"
   ]
  },
  {
   "cell_type": "markdown",
   "metadata": {},
   "source": [
    "2.c: Če je distribucija ciljne spremenljivke v vzorcih učne in testne množice podobna originalni distribuciji ciljne spremenljivke, takemu vzorčenju rečemo stratificirano vzorčenje. Sestavi stratificirane vzorce za petkratno prečno preverjanje in preveri koliko pozitivnih in koliko negativnih primerov vsebuje učna in testna množica.\n",
    "\n",
    "\n",
    "<details>\n",
    "  <summary>Namig:</summary>\n",
    "\n",
    "  *Pomagaj si z [objektom sklearn.model_selection.StratifiedKFold](https://scikit-learn.org/stable/modules/generated/sklearn.model_selection.StratifiedKFold.html) in njegovo metodo split(x, y)*.\n",
    "   \n",
    "</details>"
   ]
  },
  {
   "cell_type": "code",
   "execution_count": 11,
   "metadata": {},
   "outputs": [],
   "source": [
    "from sklearn.model_selection import StratifiedKFold"
   ]
  },
  {
   "cell_type": "code",
   "execution_count": 12,
   "metadata": {},
   "outputs": [
    {
     "name": "stdout",
     "output_type": "stream",
     "text": [
      "Fold 0\n",
      "Train set: 161.0 positive, 639.0 negative\n",
      "Test set: 40.0 positive, 160.0 negative\n",
      "\n",
      "Fold 1\n",
      "Train set: 161.0 positive, 639.0 negative\n",
      "Test set: 40.0 positive, 160.0 negative\n",
      "\n",
      "Fold 2\n",
      "Train set: 161.0 positive, 639.0 negative\n",
      "Test set: 40.0 positive, 160.0 negative\n",
      "\n",
      "Fold 3\n",
      "Train set: 161.0 positive, 639.0 negative\n",
      "Test set: 40.0 positive, 160.0 negative\n",
      "\n",
      "Fold 4\n",
      "Train set: 160.0 positive, 640.0 negative\n",
      "Test set: 41.0 positive, 159.0 negative\n",
      "\n"
     ]
    }
   ],
   "source": [
    "# Inicializiramo KFold objekt in določimo število vzorcev, ki jih bo naredil (5)\n",
    "kfold = StratifiedKFold(n_splits=5)\n",
    "# Inicializiramo list v katerega bomo shranjevali napake\n",
    "errors = []\n",
    "# Dobimo indekse učnih in testnih podatkov z metodo kfold.split(množica)\n",
    "# Z enumerate indeksiramo fold, v katerem smo\n",
    "for i, (train_index, test_index) in enumerate(kfold.split(X, y)):\n",
    "    # Z array-em train_index izberemo podatke za učno množico\n",
    "    y_train = y[train_index]\n",
    "    # Z array-em test_index izberemo podatke za testno množico\n",
    "    y_test = y[test_index]\n",
    "    print(f\"Fold {i}\")\n",
    "    print(f\"Train set: {y_train.sum()} positive, {y_train.shape[0] - y_train.sum()} negative\")\n",
    "    print(f\"Test set: {y_test.sum()} positive, {y_test.shape[0] - y_test.sum()} negative\")\n",
    "    print()"
   ]
  },
  {
   "cell_type": "markdown",
   "metadata": {},
   "source": [
    "2.d: Preveri točnost logistične regresije s petkratnim prečnim preverjanjem na vzorcih, ki jih dobiš s stratificiranim vzorčenjem. So dobljeni modeli bolj stabilni? Si pričakoval/a da bodo dobljeni rezultati bolj stabilni?"
   ]
  },
  {
   "cell_type": "code",
   "execution_count": 13,
   "metadata": {},
   "outputs": [
    {
     "name": "stdout",
     "output_type": "stream",
     "text": [
      "Fold 0: RMSE 0.835\n",
      "Fold 1: RMSE 0.94\n",
      "Fold 2: RMSE 0.99\n",
      "Fold 3: RMSE 1.0\n",
      "Fold 4: RMSE 0.785\n",
      "Mean accuracy: 0.9099999999999999\n"
     ]
    }
   ],
   "source": [
    "# Inicializiramo KFold objekt in določimo število vzorcev, ki jih bo naredil (5)\n",
    "kfold = StratifiedKFold(n_splits=5)\n",
    "# Inicializiramo list v katerega bomo shranjevali napake\n",
    "errors = []\n",
    "# Dobimo indekse učnih in testnih podatkov z metodo kfold.split(množica)\n",
    "# Z enumerate indeksiramo fold, v katerem smo\n",
    "for i, (train_index, test_index) in enumerate(kfold.split(X, y)):\n",
    "    # Z array-em train_index izberemo podatke za učno množico\n",
    "    x_train = x[train_index, :]\n",
    "    y_train = y[train_index]\n",
    "    # Z array-em test_index izberemo podatke za testno množico\n",
    "    x_test = x[test_index, :]\n",
    "    y_test = y[test_index]\n",
    "    # Natreniramo model linearne regresije\n",
    "    model = LogisticRegression().fit(x_train, y_train)\n",
    "    # Napovemo ciljno vrednost testnih podatkov\n",
    "    y_pred = model.predict(x_test)\n",
    "    # Izračunamo RMSE testnih podatkov\n",
    "    error = accuracy_score(y_test, y_pred)\n",
    "    # Napako shranimo v list errors\n",
    "    errors.append(error)\n",
    "    \n",
    "    print(f\"Fold {i}: RMSE {error}\")\n",
    "    \n",
    "# Izpišemo povprečno vrednost in varianco napak\n",
    "print(f\"Mean accuracy: {np.mean(errors)}\")"
   ]
  },
  {
   "cell_type": "markdown",
   "metadata": {},
   "source": [
    "2.e: Pred stratificiranim vzorčenjem podatke še premešaj. To lahko narediš tako, da objektu StratifiedKFold dodaš parameter shuffle=True. So sedaj rezultati bolj stabilni? Kaj se zgodi, če kodo poženeš večkrat?"
   ]
  },
  {
   "cell_type": "code",
   "execution_count": 14,
   "metadata": {},
   "outputs": [
    {
     "name": "stdout",
     "output_type": "stream",
     "text": [
      "Fold 0: RMSE 0.965\n",
      "Fold 1: RMSE 0.975\n",
      "Fold 2: RMSE 0.95\n",
      "Fold 3: RMSE 0.95\n",
      "Fold 4: RMSE 0.965\n",
      "Mean accuracy: 0.961\n"
     ]
    }
   ],
   "source": [
    "# Nastavimo \"seme\" generatorja naključnih števil\n",
    "np.random.seed(18)\n",
    "\n",
    "# Inicializiramo KFold objekt in določimo število vzorcev, ki jih bo naredil (5)\n",
    "kfold = StratifiedKFold(n_splits=5, shuffle=True)\n",
    "# Inicializiramo list v katerega bomo shranjevali napake\n",
    "errors = []\n",
    "# Dobimo indekse učnih in testnih podatkov z metodo kfold.split(množica)\n",
    "# Z enumerate indeksiramo fold, v katerem smo\n",
    "for i, (train_index, test_index) in enumerate(kfold.split(x, y)):\n",
    "    # Z array-em train_index izberemo podatke za učno množico\n",
    "    x_train = x[train_index, :]\n",
    "    y_train = y[train_index]\n",
    "    # Z array-em test_index izberemo podatke za testno množico\n",
    "    x_test = x[test_index, :]\n",
    "    y_test = y[test_index]\n",
    "    # Natreniramo model linearne regresije\n",
    "    model = LogisticRegression().fit(x_train, y_train)\n",
    "    # Napovemo ciljno vrednost testnih podatkov\n",
    "    y_pred = model.predict(x_test)\n",
    "    # Izračunamo RMSE testnih podatkov\n",
    "    error = accuracy_score(y_test, y_pred)\n",
    "    # Napako shranimo v list errors\n",
    "    errors.append(error)\n",
    "    \n",
    "    print(f\"Fold {i}: RMSE {error}\")\n",
    "    \n",
    "# Izpišemo povprečno vrednost in varianco napak\n",
    "print(f\"Mean accuracy: {np.mean(errors)}\")"
   ]
  },
  {
   "cell_type": "markdown",
   "metadata": {},
   "source": [
    "Opomba: Parameter shuffle naredi stratificirano vzorčenje stohastično s pomočjo generatorja naključnih števil. Z metodo numpy.random.seed(celo število) lahko poskrbimo, da bo generator vedno vračal ista naključna števil in bodo poslednično naši eksperimenti ponovljivi.\n",
    "\n",
    "Pozor: Vpliv na točnost modela je le posledica random seed-a. V publikacijah se uporablja le za ponovljivost eksperimentov (in ne kot: Najboljši rezultat dobimo pri random seed-u 18)"
   ]
  }
 ],
 "metadata": {
  "kernelspec": {
   "display_name": "ITAP24",
   "language": "python",
   "name": "python3"
  },
  "language_info": {
   "codemirror_mode": {
    "name": "ipython",
    "version": 3
   },
   "file_extension": ".py",
   "mimetype": "text/x-python",
   "name": "python",
   "nbconvert_exporter": "python",
   "pygments_lexer": "ipython3",
   "version": "3.11.7"
  }
 },
 "nbformat": 4,
 "nbformat_minor": 2
}
