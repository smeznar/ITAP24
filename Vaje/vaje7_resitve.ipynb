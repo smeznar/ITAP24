{
 "cells": [
  {
   "cell_type": "markdown",
   "metadata": {},
   "source": [
    "# Vaje 7: Nevronske mreže 1"
   ]
  },
  {
   "cell_type": "markdown",
   "metadata": {},
   "source": [
    "## Naloga 1: Usmerjene (feedforward) nevronske mreže "
   ]
  },
  {
   "cell_type": "markdown",
   "metadata": {},
   "source": [
    "Z ukazom `pip3 install torch torchvision` si inštaliraj paket [PyTorch](https://pytorch.org/get-started/locally/), ki ga bomo uporabljali za nevronske mreže in ukazom `pip3 install tqdm` paket [tqdm](https://github.com/tqdm/tqdm), ki ga bomo uporabljali za izpisovanje sprotnih rezultatov\n"
   ]
  },
  {
   "cell_type": "code",
   "execution_count": 1,
   "metadata": {},
   "outputs": [],
   "source": [
    "import numpy as np\n",
    "import matplotlib.pyplot as plt\n",
    "import torch\n",
    "import torch.nn as nn\n",
    "import torchvision.transforms as transform\n",
    "from torchvision.datasets import MNIST\n",
    "from tqdm import tqdm"
   ]
  },
  {
   "cell_type": "code",
   "execution_count": 2,
   "metadata": {},
   "outputs": [],
   "source": [
    "batch_size = 32\n",
    "\n",
    "# Naložimo učno množico, slike pretvorimo v tenzorje in jih standardiziramo\n",
    "train_set = MNIST('../Podatki/', train=True, download=True, \n",
    "                  transform=transform.Compose([transform.ToTensor(), transform.Normalize((0.1307,), (0.3081,))]))\n",
    "\n",
    "# Naložimo testno množico, slike pretvorimo v tenzorje in jih standardiziramo\n",
    "test_set = MNIST('../Podatki/', train=False, download=True, \n",
    "                 transform=transform.Compose([transform.ToTensor(), transform.Normalize((0.1307,), (0.3081,))]))"
   ]
  },
  {
   "cell_type": "code",
   "execution_count": 3,
   "metadata": {},
   "outputs": [
    {
     "data": {
      "image/png": "[encoded data removed]",
      "text/plain": [
       "<Figure size 640x480 with 1 Axes>"
      ]
     },
     "metadata": {},
     "output_type": "display_data"
    },
    {
     "data": {
      "image/png": "[encoded data removed]",
      "text/plain": [
       "<Figure size 640x480 with 1 Axes>"
      ]
     },
     "metadata": {},
     "output_type": "display_data"
    },
    {
     "name": "stdout",
     "output_type": "stream",
     "text": [
      "Label 5\n"
     ]
    }
   ],
   "source": [
    "# Prvo sliko pretvorimo v numpy array in jo vizualiziramo s funkcijo imshow()\n",
    "first_image = train_set[0][0].numpy()[0, :, :]\n",
    "\n",
    "# Uporabimo množico barv (colormap) \"Grays\", da sliko izrišemo črno-belo\n",
    "plt.imshow(first_image, cmap=\"Greys\")\n",
    "plt.show()\n",
    "# Za usmerjeno nevronsko mrežo bomo sliko pretvorili v vektor, zato sliko izrišemo še kot vektor\n",
    "# Za lepši izris vektor ponovimo 100-krat \n",
    "# Vektor sestavim tako, da vrstice v sliki lepimo eno za drugo\n",
    "plt.imshow(np.repeat(first_image.reshape((28*28, 1)).T, repeats=100, axis=0), cmap=\"Greys\")\n",
    "plt.show()\n",
    "\n",
    "# Izpišemo ciljno vrednost prve slike\n",
    "print(f\"Label {train_set[0][1]}\")"
   ]
  },
  {
   "cell_type": "code",
   "execution_count": 4,
   "metadata": {},
   "outputs": [],
   "source": [
    "# Definiramo nevronsko mrežo, ki bo dedovala od razreda nn.Module\n",
    "class NeuralNetwork(nn.Module):\n",
    "    # V init definiramo sloje in morebitne stvari, ki jih bomo potrebovali\n",
    "    def __init__(self):\n",
    "        super().__init__()\n",
    "        # Definiramo sloj, ki bo slike pretvoril v vektor.\n",
    "        self.flatten = nn.Flatten()\n",
    "        # Definiramo zaporedje slojev, skozi katere bomo poslali podatke.\n",
    "        # Usmerjeno nevronsko mrežo lahko definiramo z uporab nn.Sequential, \n",
    "        # lahko bi se pa temu tudi izognili in definirali vsak sloj posebaj.\n",
    "        self.linear_relu_stack = nn.Sequential(\n",
    "            # Definiramo polno-povezan sloj, ki bo na vhod prejel vhodni vektor (velikosti slike torej 28*28)\n",
    "            # Izhodno število nevronov lahko sami nastavimo, na npr 64\n",
    "            nn.Linear(28*28, 64),\n",
    "            # Nato podatke pošljemo čez aktivacijsko funkcijo ReLu (ki je 0 za x<0 in x čene)\n",
    "            nn.ReLU(),\n",
    "            # Vhod v naslednji sloj biti isto število, kot izhod iz prejšnjega\n",
    "            nn.Linear(64, 20),\n",
    "            nn.ReLU(),\n",
    "            # Napovedovali bomo števke 0-9, zato mora zadnji sloj vsebovati 10 izhodnih vrednosti\n",
    "            nn.Linear(20, 10)\n",
    "        )\n",
    "        # Velikokrat pri klasifikaciji za zadnji sloj damo Softmax sloj, ki izhodne vrednosti pretvori v \"verjetnosti\"\n",
    "        # Softmax spremeni vhodne vrednosti v pozitivna realna števila, ki se seštejejo v 1. Če bi softmax uporabili \n",
    "        # neskončnokrat, bi dobili za vse vrednosti 1/št izhodnih vrednosti. Ker uporabljamo CrossEntropyLoss, ki \n",
    "        # že naredi softmax nam tega sloja ni treba uporabiti\n",
    "        # self.softmax = nn.Softmax(dim=1)\n",
    "        \n",
    "\n",
    "    def forward(self, x):\n",
    "        # vhodne slike (podatke) x najprej prevorimo v vektroje\n",
    "        x = self.flatten(x)\n",
    "        # vektorje pošljemo čez definirane sloje\n",
    "        logits = self.linear_relu_stack(x)\n",
    "        # vrnemo izhodne vrednosti\n",
    "        return logits\n",
    "\n",
    "# Nevronsko mrežo bi nato zgradili z naslednjim ukazom\n",
    "# S to nevronsko mrežo lahko že napovedujemo, a bodo napovedane mreže naključne\n",
    "# Pred uporabo moramo model natrenirati\n",
    "model = NeuralNetwork()"
   ]
  },
  {
   "cell_type": "code",
   "execution_count": 5,
   "metadata": {},
   "outputs": [],
   "source": [
    "# Naredimo funkcijo, ki bo natrenirala naš model\n",
    "def train(epochs, model, trainset, batch_size, learning_rate=0.01):\n",
    "    \n",
    "    # Najprej definiramo objekt s katerim bomo vzorčili podatke. Nevronske mreže se ponavadi uči iterativno, več epoh in znotraj vsake epohe več iteracij\n",
    "    # V vsaki iteraciji se učimo iz ene skupine podatkov (ang. batch)\n",
    "    trainloader = torch.utils.data.DataLoader(trainset, batch_size=batch_size, shuffle=True)\n",
    "    \n",
    "    # Zagotovimo, da bo model v načinu treniranja, kjer se računajo gradienti in so aktivni vsi sloji (med evalvacijo niso nujno vsi aktivni, npr. Dropout, BatchNormalization, ...)\n",
    "    model.train()\n",
    "    \n",
    "    # Definiramo naš optimizator. V našem primeru bo to stohastični gradientni spust (SGD) z learning rate-om 0.01\n",
    "    # Lahko bi uporabili tudi Adam naprimer\n",
    "    optimizer = torch.optim.SGD(model.parameters(), lr=learning_rate)\n",
    "    \n",
    "    # Definiramo našo funkcijo izgube (loss). V našem primeru bo to prečna entropija.\n",
    "    criterion = nn.CrossEntropyLoss()\n",
    "    \n",
    "    # Gremo čež epohe\n",
    "    for epoch in range(epochs):\n",
    "\n",
    "        running_loss = 0.0\n",
    "        # Uporabimo funkcijo tqdm.tqdm, ki nam bo lepše, v realnem času izpisovala napredek učenja\n",
    "        with tqdm(total=len(trainloader)*batch_size, desc=f'Training - Epoch: {epoch + 1}/{epochs}', unit='chunks') as prog_bar:\n",
    "            # Gremo čez vse podatke v skupinah po batch_size z trainloaderjem, v našem primeru je to 32\n",
    "            for i, data in enumerate(trainloader, 0):\n",
    "                # Podatke razpakiramo v vhode in izhode (labele)\n",
    "                inputs, labels = data\n",
    "\n",
    "                # Počistimo (resetiramo) gradiente v podatkih\n",
    "                optimizer.zero_grad()\n",
    "\n",
    "                # Vhodne podatke spustimo čez model, ta nam vrne matriko, v kateri se vsaka vrstica sešteje v 1 (zaradi Softmax sloja)\n",
    "                outputs = model(inputs)\n",
    "                # Izračunamo izgubo\n",
    "                loss = criterion(outputs, labels)\n",
    "                # Naredimo vzvratno razširanje napake (backpropagation)\n",
    "                loss.backward()\n",
    "                # Naredimo en korak optimizacije\n",
    "                optimizer.step()\n",
    "\n",
    "                # Dodamo izgubo k naši vsoti izgube. S funkcijo detach poskrbimo, da ne prištejemo (in si tako shranimo) tudi gradienta\n",
    "                # s funkcijo item() pa da se le vrednost in ne celoten vektor\n",
    "                running_loss += loss.detach().item()\n",
    "\n",
    "                # Posodobimo vrednosti funkcije tqdm.tqdm. Vsoto dosedanje izgube delimo s številom skupin, ki smo jih že obdelali\n",
    "                prog_bar.set_postfix(**{'loss': (running_loss) / (i+1)})\n",
    "                # Posodobimo progress bar\n",
    "                prog_bar.update(batch_size)\n",
    "\n",
    "    print('Finished Training')"
   ]
  },
  {
   "cell_type": "code",
   "execution_count": 6,
   "metadata": {},
   "outputs": [],
   "source": [
    "def test(model, testset, batch_size):\n",
    "    \n",
    "    testloader = torch.utils.data.DataLoader(testset, batch_size=batch_size, shuffle=True)\n",
    "    criterion = nn.CrossEntropyLoss()\n",
    "    # Model damo v način evalvacije. Tu se gradienti ne računajo in da se nekateri sloji deaktivirajo\n",
    "    model.eval()\n",
    "    test_loss = 0\n",
    "    correct = 0\n",
    "    counter = 0\n",
    "    \n",
    "    # Dodatno poskrbimo, da vektorji ne vsebujejo gradientov\n",
    "    with torch.no_grad():\n",
    "        with tqdm(total=len(testloader)*batch_size, desc=f'Testing', unit='chunks') as prog_bar:\n",
    "            for i, data in enumerate(testloader, 0):\n",
    "                inputs, labels = data\n",
    "                output = model(inputs)\n",
    "                test_loss += criterion(output, labels).detach().item()\n",
    "                # Izberemo indekse mesta z najvišjo vrednostjo (\"verjetnostjo\")\n",
    "                pred = output.data.max(1, keepdim=True)[1]\n",
    "                # Prištejemo število primerov, kjer smo zadeli pravilno števko\n",
    "                correct += pred.eq(labels.data.view_as(pred)).sum()\n",
    "                prog_bar.update(batch_size)\n",
    "                counter += 1\n",
    "    \n",
    "    print(f'Test set: Avg. loss: {test_loss/counter}, Correct predictions: {correct}/{len(testloader.dataset)}')"
   ]
  },
  {
   "cell_type": "code",
   "execution_count": 7,
   "metadata": {},
   "outputs": [
    {
     "name": "stdout",
     "output_type": "stream",
     "text": [
      "Accuracy on the test set before training\n"
     ]
    },
    {
     "name": "stderr",
     "output_type": "stream",
     "text": [
      "Testing: 100%|██████████| 10016/10016 [00:01<00:00, 8230.47chunks/s]\n"
     ]
    },
    {
     "name": "stdout",
     "output_type": "stream",
     "text": [
      "Test set: Avg. loss: 2.3102493872657752, Correct predictions: 1022/10000\n",
      "\n"
     ]
    },
    {
     "name": "stderr",
     "output_type": "stream",
     "text": [
      "Training - Epoch: 1/5: 100%|██████████| 60000/60000 [00:10<00:00, 5545.69chunks/s, loss=0.618]\n",
      "Training - Epoch: 2/5: 100%|██████████| 60000/60000 [00:10<00:00, 5559.79chunks/s, loss=0.253]\n",
      "Training - Epoch: 3/5: 100%|██████████| 60000/60000 [00:10<00:00, 5571.20chunks/s, loss=0.195]\n",
      "Training - Epoch: 4/5: 100%|██████████| 60000/60000 [00:10<00:00, 5615.51chunks/s, loss=0.16] \n",
      "Training - Epoch: 5/5: 100%|██████████| 60000/60000 [00:10<00:00, 5983.98chunks/s, loss=0.137]\n"
     ]
    },
    {
     "name": "stdout",
     "output_type": "stream",
     "text": [
      "Finished Training\n",
      "\n",
      "Accuracy on the test set after training the model\n"
     ]
    },
    {
     "name": "stderr",
     "output_type": "stream",
     "text": [
      "Testing: 100%|██████████| 10016/10016 [00:01<00:00, 8051.46chunks/s]"
     ]
    },
    {
     "name": "stdout",
     "output_type": "stream",
     "text": [
      "Test set: Avg. loss: 0.1352705263172666, Correct predictions: 9591/10000\n"
     ]
    },
    {
     "name": "stderr",
     "output_type": "stream",
     "text": [
      "\n"
     ]
    }
   ],
   "source": [
    "# Naštimamo random seed za pytorch, to naredimo z drugo metodo kot za python in numpy\n",
    "torch.manual_seed(42)\n",
    "model = NeuralNetwork()\n",
    "epochs = 5\n",
    "\n",
    "print(\"Accuracy on the test set before training\")\n",
    "print(end=\"\")\n",
    "test(model, test_set, batch_size)\n",
    "print()\n",
    "\n",
    "train(epochs, model, train_set, batch_size)\n",
    "print()\n",
    "\n",
    "print(\"Accuracy on the test set after training the model\")\n",
    "test(model, test_set, batch_size)"
   ]
  },
  {
   "cell_type": "markdown",
   "metadata": {},
   "source": [
    "1.a: Preveri število parametrov v natreniranem modelu. Pomagaj si z modelovo funkcijo `parameters()` in funkcijo tenzorja `numel()`, ki izpiše število vrednosti znotraj tenzorja. Kako se število parametrov primerja z dosedaj videnimi napovednimi modeli in kaj predstavljajo vmesne vrednosti na sodih mestih?"
   ]
  },
  {
   "cell_type": "code",
   "execution_count": 8,
   "metadata": {},
   "outputs": [
    {
     "name": "stdout",
     "output_type": "stream",
     "text": [
      "Number of parameters at layer 0: 50176\n",
      "Number of parameters at layer 1: 64\n",
      "Number of parameters at layer 2: 1280\n",
      "Number of parameters at layer 3: 20\n",
      "Number of parameters at layer 4: 200\n",
      "Number of parameters at layer 5: 10\n"
     ]
    }
   ],
   "source": [
    "# Gremo čez matrike parametrov in za vsako izpišemo koliko parametrov vsebuje\n",
    "for i, parameter in enumerate(model.parameters()):\n",
    "    print(f\"Number of parameters at layer {i}: {parameter.numel()}\")\n",
    "    \n",
    "# Opazimo lahko, da so števila na sodih mestih nižja in da sovpadajo s številom izhodnih vrednosti slojev. To je zato, ker predstavljajo začeetne vrednosti vsakega sloja."
   ]
  },
  {
   "cell_type": "markdown",
   "metadata": {},
   "source": [
    "1.b: Spremeni zgornjo nevronsko mrežo tako, da ji dodaš še en polno-povezan sloj in spremeni srednjo aktivacijsko funkcijo iz ReLu v Tanh in preveri njeno točnost."
   ]
  },
  {
   "cell_type": "code",
   "execution_count": 9,
   "metadata": {},
   "outputs": [],
   "source": [
    "class NeuralNetwork2(nn.Module):\n",
    "    def __init__(self):\n",
    "        super().__init__()\n",
    "        self.flatten = nn.Flatten()\n",
    "        self.linear_relu_stack = nn.Sequential(\n",
    "            nn.Linear(28*28, 80),\n",
    "            nn.ReLU(),\n",
    "            # Dodamo nov polno-povezan sloj in aktivacijsko funkcijo Tanh\n",
    "            nn.Linear(80, 40),\n",
    "            nn.Tanh(),\n",
    "            nn.Linear(40, 20),\n",
    "            nn.ReLU(),\n",
    "            nn.Linear(20, 10)\n",
    "        )\n",
    "        \n",
    "\n",
    "    def forward(self, x):\n",
    "        x = self.flatten(x)\n",
    "        logits = self.linear_relu_stack(x)\n",
    "        return logits"
   ]
  },
  {
   "cell_type": "code",
   "execution_count": 10,
   "metadata": {},
   "outputs": [
    {
     "name": "stdout",
     "output_type": "stream",
     "text": [
      "Accuracy on the test set before training\n"
     ]
    },
    {
     "name": "stderr",
     "output_type": "stream",
     "text": [
      "Testing: 100%|██████████| 10016/10016 [00:01<00:00, 7986.73chunks/s]\n"
     ]
    },
    {
     "name": "stdout",
     "output_type": "stream",
     "text": [
      "Test set: Avg. loss: 2.305541713397724, Correct predictions: 1286/10000\n",
      "\n"
     ]
    },
    {
     "name": "stderr",
     "output_type": "stream",
     "text": [
      "Training - Epoch: 1/5: 100%|██████████| 60000/60000 [00:10<00:00, 5642.51chunks/s, loss=0.938]\n",
      "Training - Epoch: 2/5: 100%|██████████| 60000/60000 [00:10<00:00, 5695.77chunks/s, loss=0.262]\n",
      "Training - Epoch: 3/5: 100%|██████████| 60000/60000 [00:10<00:00, 5513.56chunks/s, loss=0.177]\n",
      "Training - Epoch: 4/5: 100%|██████████| 60000/60000 [00:10<00:00, 5590.53chunks/s, loss=0.136]\n",
      "Training - Epoch: 5/5: 100%|██████████| 60000/60000 [00:10<00:00, 5602.48chunks/s, loss=0.112]\n"
     ]
    },
    {
     "name": "stdout",
     "output_type": "stream",
     "text": [
      "Finished Training\n",
      "\n",
      "Accuracy on the test set after training the model\n"
     ]
    },
    {
     "name": "stderr",
     "output_type": "stream",
     "text": [
      "Testing: 100%|██████████| 10016/10016 [00:01<00:00, 7768.88chunks/s]"
     ]
    },
    {
     "name": "stdout",
     "output_type": "stream",
     "text": [
      "Test set: Avg. loss: 0.11228256143581944, Correct predictions: 9663/10000\n"
     ]
    },
    {
     "name": "stderr",
     "output_type": "stream",
     "text": [
      "\n"
     ]
    }
   ],
   "source": [
    "torch.manual_seed(42)\n",
    "model = NeuralNetwork2()\n",
    "epochs = 5\n",
    "\n",
    "print(\"Accuracy on the test set before training\")\n",
    "print(end=\"\")\n",
    "test(model, test_set, batch_size)\n",
    "print()\n",
    "\n",
    "train(epochs, model, train_set, batch_size)\n",
    "print()\n",
    "\n",
    "print(\"Accuracy on the test set after training the model\")\n",
    "test(model, test_set, batch_size)"
   ]
  },
  {
   "cell_type": "markdown",
   "metadata": {},
   "source": [
    "Vidimo, da je se rezultat izboljšal, čas učenja pa podaljšal."
   ]
  },
  {
   "cell_type": "code",
   "execution_count": 11,
   "metadata": {},
   "outputs": [
    {
     "name": "stdout",
     "output_type": "stream",
     "text": [
      "Number of parameters at layer 0: 62720\n",
      "Number of parameters at layer 1: 80\n",
      "Number of parameters at layer 2: 3200\n",
      "Number of parameters at layer 3: 40\n",
      "Number of parameters at layer 4: 800\n",
      "Number of parameters at layer 5: 20\n",
      "Number of parameters at layer 6: 200\n",
      "Number of parameters at layer 7: 10\n"
     ]
    }
   ],
   "source": [
    "for i, parameter in enumerate(model.parameters()):\n",
    "    print(f\"Number of parameters at layer {i}: {parameter.numel()}\")\n",
    "    \n",
    "# Vidimo tudi, da ta model vsebuje več parametrov"
   ]
  },
  {
   "cell_type": "markdown",
   "metadata": {},
   "source": [
    "1.c: Preiskusi točnost nevronske mreže z različnimi velikosti skupin (batch-ev), optimizatorji (SGD in Adam) in različnimi hitrostmi učenja (learning rate)."
   ]
  },
  {
   "cell_type": "code",
   "execution_count": 12,
   "metadata": {},
   "outputs": [],
   "source": [
    "# Da bo učenje hitrejše uporabimo le podmnožico podatkov\n",
    "from torch.utils.data import Subset\n",
    "train_subset = Subset(train_set, range(5000))"
   ]
  },
  {
   "cell_type": "code",
   "execution_count": 14,
   "metadata": {},
   "outputs": [
    {
     "name": "stderr",
     "output_type": "stream",
     "text": [
      "Training - Epoch: 1/5: 100%|██████████| 5000/5000 [00:05<00:00, 854.36chunks/s, loss=0.633] \n",
      "Training - Epoch: 2/5: 100%|██████████| 5000/5000 [00:05<00:00, 914.23chunks/s, loss=0.269]\n",
      "Training - Epoch: 3/5: 100%|██████████| 5000/5000 [00:05<00:00, 931.07chunks/s, loss=0.194] \n",
      "Training - Epoch: 4/5: 100%|██████████| 5000/5000 [00:05<00:00, 847.89chunks/s, loss=0.138] \n",
      "Training - Epoch: 5/5: 100%|██████████| 5000/5000 [00:05<00:00, 919.11chunks/s, loss=0.105] \n"
     ]
    },
    {
     "name": "stdout",
     "output_type": "stream",
     "text": [
      "Finished Training\n",
      "Accuracy on the test set with batch size 1\n"
     ]
    },
    {
     "name": "stderr",
     "output_type": "stream",
     "text": [
      "Testing: 100%|██████████| 10000/10000 [00:02<00:00, 3595.44chunks/s]\n"
     ]
    },
    {
     "name": "stdout",
     "output_type": "stream",
     "text": [
      "Test set: Avg. loss: 0.2780897305503683, Correct predictions: 9261/10000\n",
      "\n"
     ]
    },
    {
     "name": "stderr",
     "output_type": "stream",
     "text": [
      "Training - Epoch: 1/5: 100%|██████████| 5000/5000 [00:01<00:00, 4016.26chunks/s, loss=1.08]\n",
      "Training - Epoch: 2/5: 100%|██████████| 5000/5000 [00:01<00:00, 3743.77chunks/s, loss=0.393]\n",
      "Training - Epoch: 3/5: 100%|██████████| 5000/5000 [00:01<00:00, 4071.03chunks/s, loss=0.297]\n",
      "Training - Epoch: 4/5: 100%|██████████| 5000/5000 [00:01<00:00, 3570.79chunks/s, loss=0.242]\n",
      "Training - Epoch: 5/5: 100%|██████████| 5000/5000 [00:01<00:00, 3717.94chunks/s, loss=0.199]\n"
     ]
    },
    {
     "name": "stdout",
     "output_type": "stream",
     "text": [
      "Finished Training\n",
      "Accuracy on the test set with batch size 8\n"
     ]
    },
    {
     "name": "stderr",
     "output_type": "stream",
     "text": [
      "Testing: 100%|██████████| 10000/10000 [00:01<00:00, 6977.98chunks/s]\n"
     ]
    },
    {
     "name": "stdout",
     "output_type": "stream",
     "text": [
      "Test set: Avg. loss: 0.29570701474770905, Correct predictions: 9079/10000\n",
      "\n"
     ]
    },
    {
     "name": "stderr",
     "output_type": "stream",
     "text": [
      "Training - Epoch: 1/5: 100%|██████████| 5056/5056 [00:00<00:00, 6853.47chunks/s, loss=2.22]\n",
      "Training - Epoch: 2/5: 100%|██████████| 5056/5056 [00:00<00:00, 6788.86chunks/s, loss=1.9] \n",
      "Training - Epoch: 3/5: 100%|██████████| 5056/5056 [00:00<00:00, 6125.41chunks/s, loss=1.39]\n",
      "Training - Epoch: 4/5: 100%|██████████| 5056/5056 [00:00<00:00, 6441.42chunks/s, loss=0.973]\n",
      "Training - Epoch: 5/5: 100%|██████████| 5056/5056 [00:00<00:00, 6717.17chunks/s, loss=0.742]\n"
     ]
    },
    {
     "name": "stdout",
     "output_type": "stream",
     "text": [
      "Finished Training\n",
      "Accuracy on the test set with batch size 64\n"
     ]
    },
    {
     "name": "stderr",
     "output_type": "stream",
     "text": [
      "Testing: 100%|██████████| 10048/10048 [00:01<00:00, 7528.41chunks/s]\n"
     ]
    },
    {
     "name": "stdout",
     "output_type": "stream",
     "text": [
      "Test set: Avg. loss: 0.7181831571706541, Correct predictions: 8003/10000\n",
      "\n"
     ]
    },
    {
     "name": "stderr",
     "output_type": "stream",
     "text": [
      "Training - Epoch: 1/5: 100%|██████████| 5120/5120 [00:00<00:00, 8570.98chunks/s, loss=2.31]\n",
      "Training - Epoch: 2/5: 100%|██████████| 5120/5120 [00:00<00:00, 8711.98chunks/s, loss=2.29]\n",
      "Training - Epoch: 3/5: 100%|██████████| 5120/5120 [00:00<00:00, 8352.46chunks/s, loss=2.27]\n",
      "Training - Epoch: 4/5: 100%|██████████| 5120/5120 [00:00<00:00, 9077.92chunks/s, loss=2.25]\n",
      "Training - Epoch: 5/5: 100%|██████████| 5120/5120 [00:00<00:00, 8784.85chunks/s, loss=2.22]\n"
     ]
    },
    {
     "name": "stdout",
     "output_type": "stream",
     "text": [
      "Finished Training\n",
      "Accuracy on the test set with batch size 512\n"
     ]
    },
    {
     "name": "stderr",
     "output_type": "stream",
     "text": [
      "Testing: 100%|██████████| 10240/10240 [00:01<00:00, 9423.20chunks/s]\n"
     ]
    },
    {
     "name": "stdout",
     "output_type": "stream",
     "text": [
      "Test set: Avg. loss: 2.2040568947792054, Correct predictions: 2809/10000\n",
      "\n"
     ]
    },
    {
     "name": "stderr",
     "output_type": "stream",
     "text": [
      "Training - Epoch: 1/5: 100%|██████████| 6144/6144 [00:00<00:00, 10855.87chunks/s, loss=2.29]\n",
      "Training - Epoch: 2/5: 100%|██████████| 6144/6144 [00:00<00:00, 10761.61chunks/s, loss=2.28]\n",
      "Training - Epoch: 3/5: 100%|██████████| 6144/6144 [00:00<00:00, 10502.52chunks/s, loss=2.27]\n",
      "Training - Epoch: 4/5: 100%|██████████| 6144/6144 [00:00<00:00, 10616.44chunks/s, loss=2.26]\n",
      "Training - Epoch: 5/5: 100%|██████████| 6144/6144 [00:00<00:00, 10870.85chunks/s, loss=2.26]\n"
     ]
    },
    {
     "name": "stdout",
     "output_type": "stream",
     "text": [
      "Finished Training\n",
      "Accuracy on the test set with batch size 2048\n"
     ]
    },
    {
     "name": "stderr",
     "output_type": "stream",
     "text": [
      "Testing: 100%|██████████| 10240/10240 [00:01<00:00, 9432.65chunks/s]\n"
     ]
    },
    {
     "name": "stdout",
     "output_type": "stream",
     "text": [
      "Test set: Avg. loss: 2.2558130741119387, Correct predictions: 1999/10000\n",
      "\n"
     ]
    },
    {
     "name": "stderr",
     "output_type": "stream",
     "text": [
      "Training - Epoch: 1/5: 100%|██████████| 5024/5024 [00:00<00:00, 5783.27chunks/s, loss=2.3] \n",
      "Training - Epoch: 2/5: 100%|██████████| 5024/5024 [00:00<00:00, 6491.72chunks/s, loss=2.27]\n",
      "Training - Epoch: 3/5: 100%|██████████| 5024/5024 [00:00<00:00, 6378.63chunks/s, loss=2.23]\n",
      "Training - Epoch: 4/5: 100%|██████████| 5024/5024 [00:00<00:00, 5076.93chunks/s, loss=2.18]\n",
      "Training - Epoch: 5/5: 100%|██████████| 5024/5024 [00:00<00:00, 6010.75chunks/s, loss=2.12]\n"
     ]
    },
    {
     "name": "stdout",
     "output_type": "stream",
     "text": [
      "Finished Training\n",
      "Accuracy on the test set with learning rate 0.001\n"
     ]
    },
    {
     "name": "stderr",
     "output_type": "stream",
     "text": [
      "Testing: 100%|██████████| 10016/10016 [00:01<00:00, 8510.86chunks/s]\n"
     ]
    },
    {
     "name": "stdout",
     "output_type": "stream",
     "text": [
      "Test set: Avg. loss: 2.086941554904365, Correct predictions: 4336/10000\n",
      "\n"
     ]
    },
    {
     "name": "stderr",
     "output_type": "stream",
     "text": [
      "Training - Epoch: 1/5: 100%|██████████| 5024/5024 [00:00<00:00, 6688.62chunks/s, loss=2]   \n",
      "Training - Epoch: 2/5: 100%|██████████| 5024/5024 [00:00<00:00, 5671.92chunks/s, loss=1.03]\n",
      "Training - Epoch: 3/5: 100%|██████████| 5024/5024 [00:00<00:00, 5971.95chunks/s, loss=0.585]\n",
      "Training - Epoch: 4/5: 100%|██████████| 5024/5024 [00:00<00:00, 5577.84chunks/s, loss=0.45] \n",
      "Training - Epoch: 5/5: 100%|██████████| 5024/5024 [00:00<00:00, 6220.55chunks/s, loss=0.385]\n"
     ]
    },
    {
     "name": "stdout",
     "output_type": "stream",
     "text": [
      "Finished Training\n",
      "Accuracy on the test set with learning rate 0.01\n"
     ]
    },
    {
     "name": "stderr",
     "output_type": "stream",
     "text": [
      "Testing: 100%|██████████| 10016/10016 [00:01<00:00, 8021.46chunks/s]\n"
     ]
    },
    {
     "name": "stdout",
     "output_type": "stream",
     "text": [
      "Test set: Avg. loss: 0.41284362005349545, Correct predictions: 8800/10000\n",
      "\n"
     ]
    },
    {
     "name": "stderr",
     "output_type": "stream",
     "text": [
      "Training - Epoch: 1/5: 100%|██████████| 5024/5024 [00:00<00:00, 6633.59chunks/s, loss=0.807]\n",
      "Training - Epoch: 2/5: 100%|██████████| 5024/5024 [00:00<00:00, 5797.48chunks/s, loss=0.295]\n",
      "Training - Epoch: 3/5: 100%|██████████| 5024/5024 [00:00<00:00, 6244.58chunks/s, loss=0.2]  \n",
      "Training - Epoch: 4/5: 100%|██████████| 5024/5024 [00:00<00:00, 6347.64chunks/s, loss=0.155]\n",
      "Training - Epoch: 5/5: 100%|██████████| 5024/5024 [00:00<00:00, 5103.89chunks/s, loss=0.114]\n"
     ]
    },
    {
     "name": "stdout",
     "output_type": "stream",
     "text": [
      "Finished Training\n",
      "Accuracy on the test set with learning rate 0.1\n"
     ]
    },
    {
     "name": "stderr",
     "output_type": "stream",
     "text": [
      "Testing: 100%|██████████| 10016/10016 [00:01<00:00, 7973.95chunks/s]\n"
     ]
    },
    {
     "name": "stdout",
     "output_type": "stream",
     "text": [
      "Test set: Avg. loss: 0.25173161083017104, Correct predictions: 9233/10000\n",
      "\n"
     ]
    },
    {
     "name": "stderr",
     "output_type": "stream",
     "text": [
      "Training - Epoch: 1/5: 100%|██████████| 5024/5024 [00:00<00:00, 6372.62chunks/s, loss=2.34]\n",
      "Training - Epoch: 2/5: 100%|██████████| 5024/5024 [00:00<00:00, 6303.91chunks/s, loss=2.31]\n",
      "Training - Epoch: 3/5: 100%|██████████| 5024/5024 [00:00<00:00, 5913.04chunks/s, loss=2.31]\n",
      "Training - Epoch: 4/5: 100%|██████████| 5024/5024 [00:00<00:00, 5691.93chunks/s, loss=2.31]\n",
      "Training - Epoch: 5/5: 100%|██████████| 5024/5024 [00:00<00:00, 6173.07chunks/s, loss=2.31]\n"
     ]
    },
    {
     "name": "stdout",
     "output_type": "stream",
     "text": [
      "Finished Training\n",
      "Accuracy on the test set with learning rate 1\n"
     ]
    },
    {
     "name": "stderr",
     "output_type": "stream",
     "text": [
      "Testing: 100%|██████████| 10016/10016 [00:01<00:00, 7754.23chunks/s]\n"
     ]
    },
    {
     "name": "stdout",
     "output_type": "stream",
     "text": [
      "Test set: Avg. loss: 2.313393832776493, Correct predictions: 1135/10000\n",
      "\n"
     ]
    },
    {
     "name": "stderr",
     "output_type": "stream",
     "text": [
      "Training - Epoch: 1/5: 100%|██████████| 5024/5024 [00:00<00:00, 5875.00chunks/s, loss=nan]    \n",
      "Training - Epoch: 2/5: 100%|██████████| 5024/5024 [00:00<00:00, 6661.71chunks/s, loss=nan]\n",
      "Training - Epoch: 3/5: 100%|██████████| 5024/5024 [00:00<00:00, 5633.20chunks/s, loss=nan]\n",
      "Training - Epoch: 4/5: 100%|██████████| 5024/5024 [00:00<00:00, 5305.70chunks/s, loss=nan]\n",
      "Training - Epoch: 5/5: 100%|██████████| 5024/5024 [00:00<00:00, 5624.52chunks/s, loss=nan]\n"
     ]
    },
    {
     "name": "stdout",
     "output_type": "stream",
     "text": [
      "Finished Training\n",
      "Accuracy on the test set with learning rate 10\n"
     ]
    },
    {
     "name": "stderr",
     "output_type": "stream",
     "text": [
      "Testing: 100%|██████████| 10016/10016 [00:01<00:00, 7395.77chunks/s]"
     ]
    },
    {
     "name": "stdout",
     "output_type": "stream",
     "text": [
      "Test set: Avg. loss: nan, Correct predictions: 980/10000\n",
      "\n"
     ]
    },
    {
     "name": "stderr",
     "output_type": "stream",
     "text": [
      "\n"
     ]
    }
   ],
   "source": [
    "# Preverimo točnost modela in trajanje učenja za različne velikosti skupin\n",
    "for batch_size in [1, 8, 64, 512, 2048]:\n",
    "    model = NeuralNetwork()\n",
    "    train(epochs, model, train_subset, batch_size)\n",
    "    print(f\"Accuracy on the test set with batch size {batch_size}\")\n",
    "    test(model, test_set, batch_size)\n",
    "    print()\n",
    "# Opazimo, da pri manjših batch-ih učenje traja več časa, a je rezultat boljši\n",
    "    \n",
    "# Preverimo še različne stopnje učenja\n",
    "for learning_rate in [0.001, 0.01, 0.1, 1, 10]:\n",
    "    model = NeuralNetwork()\n",
    "    train(epochs, model, train_subset, 32, learning_rate=learning_rate)\n",
    "    print(f\"Accuracy on the test set with learning rate {learning_rate}\")\n",
    "    test(model, test_set, 32)\n",
    "    print()\n",
    "# Opazimo, da se pri prenizki in previsoki stopnji model ne nauči napovedovati dobro, če pa zadanemo pravo vrednost pa se model dobro uči"
   ]
  },
  {
   "cell_type": "markdown",
   "metadata": {},
   "source": [
    "## Naloga 2: Konvolucijska nevronska mreža"
   ]
  },
  {
   "cell_type": "markdown",
   "metadata": {},
   "source": [
    "2.a: S pomočjo 2D konvolucijskega sloja ([`nn.Conv2d`](https://pytorch.org/docs/stable/generated/torch.nn.Conv2d.html)) in maxpool sloja ([`nn.MaxPool2d`](https://pytorch.org/docs/stable/generated/torch.nn.MaxPool2d.html)) sestavi konvolucijsko nevronsko mrežo in jo potestiraj na testni množici."
   ]
  },
  {
   "cell_type": "code",
   "execution_count": 15,
   "metadata": {},
   "outputs": [],
   "source": [
    "# Sestavimo konvolucijsko nevronsko mrežo\n",
    "class CNN(nn.Module):\n",
    "    def __init__(self):\n",
    "        super(CNN, self).__init__()\n",
    "        # Ker bomo delali na slikah (2d matrikah) slike ne rabimo pretvoriti v vektor\n",
    "        self.convolution = nn.Sequential(\n",
    "            # Začnemo s konvolucijskim slojem. Ta bo na vhod dobil 1 kanal (ker je slika črno bela)\n",
    "            # na izhod pa vrnila 16 kanalov (sami definiramo koliko). Velikost konvolucijskega filtra\n",
    "            # nadzorujemo z parametrom kernel_size, v našem primeru bodo filtri velikosti 3x3\n",
    "            nn.Conv2d(1, 16, kernel_size=3),\n",
    "            # Dobljene kanale pošljemo čez relu funkcijo\n",
    "            nn.ReLU(),\n",
    "            # Sliko pomanjšamo z maxpool slojem. Jedro tega bo velikosti 2 v našem primeru\n",
    "            nn.MaxPool2d(kernel_size=2))\n",
    "\n",
    "        # Na koncu bomo ciljno vrednost napovedali s polno povezanim slojem. Ta na vhod prejme kanale\n",
    "        # iz prejšnjega sloja pretvorjene v vektor. Teh je 16, vsak velikosti 13x13. Velikost kanalov\n",
    "        # lahko ročno izračunamo ali pa model poženemo in razberemo velikost vektorja iz napake.\n",
    "        self.fc = nn.Linear(16*13*13, 10)\n",
    "    \n",
    "    def forward(self, x):\n",
    "        # Podatke pošljemo čez konvolucijo\n",
    "        x = self.convolution(x)\n",
    "        # Kanale pretvorimo v vektorje z ukazom reshape\n",
    "        x = x.reshape(x.size(0), -1)\n",
    "        # Napovemo ciljno vrednost s polno povezanim slojem\n",
    "        x = self.fc(x)\n",
    "        return x"
   ]
  },
  {
   "cell_type": "code",
   "execution_count": 17,
   "metadata": {},
   "outputs": [
    {
     "name": "stdout",
     "output_type": "stream",
     "text": [
      "Accuracy on the test set before training\n"
     ]
    },
    {
     "name": "stderr",
     "output_type": "stream",
     "text": [
      "Testing: 100%|██████████| 10016/10016 [00:01<00:00, 7000.55chunks/s]\n"
     ]
    },
    {
     "name": "stdout",
     "output_type": "stream",
     "text": [
      "Test set: Avg. loss: 2.3887506384438217, Correct predictions: 1002/10000\n",
      "\n"
     ]
    },
    {
     "name": "stderr",
     "output_type": "stream",
     "text": [
      "Training - Epoch: 1/5: 100%|██████████| 60000/60000 [00:13<00:00, 4574.46chunks/s, loss=0.335]\n",
      "Training - Epoch: 2/5: 100%|██████████| 60000/60000 [00:12<00:00, 4628.25chunks/s, loss=0.168]\n",
      "Training - Epoch: 3/5: 100%|██████████| 60000/60000 [00:12<00:00, 4737.93chunks/s, loss=0.115]\n",
      "Training - Epoch: 4/5: 100%|██████████| 60000/60000 [00:12<00:00, 4749.04chunks/s, loss=0.0926]\n",
      "Training - Epoch: 5/5: 100%|██████████| 60000/60000 [00:12<00:00, 4707.20chunks/s, loss=0.0794]\n"
     ]
    },
    {
     "name": "stdout",
     "output_type": "stream",
     "text": [
      "Finished Training\n",
      "\n",
      "Accuracy on the test set after training the model\n"
     ]
    },
    {
     "name": "stderr",
     "output_type": "stream",
     "text": [
      "Testing: 100%|██████████| 10016/10016 [00:01<00:00, 7150.52chunks/s]"
     ]
    },
    {
     "name": "stdout",
     "output_type": "stream",
     "text": [
      "Test set: Avg. loss: 0.07268371277253706, Correct predictions: 9778/10000\n"
     ]
    },
    {
     "name": "stderr",
     "output_type": "stream",
     "text": [
      "\n"
     ]
    }
   ],
   "source": [
    "torch.manual_seed(42)\n",
    "model = CNN()\n",
    "epochs = 5\n",
    "batch_size = 32\n",
    "\n",
    "print(\"Accuracy on the test set before training\")\n",
    "print(end=\"\")\n",
    "test(model, test_set, batch_size)\n",
    "print()\n",
    "\n",
    "train(epochs, model, train_set, batch_size)\n",
    "print()\n",
    "\n",
    "print(\"Accuracy on the test set after training the model\")\n",
    "test(model, test_set, batch_size)"
   ]
  },
  {
   "cell_type": "markdown",
   "metadata": {},
   "source": [
    "2.b: Izpiši število parametrov te nevronske mreže. Kako se število parametrov razlikuje od števila parametrov usmerjene nevronske mreže?"
   ]
  },
  {
   "cell_type": "code",
   "execution_count": 18,
   "metadata": {},
   "outputs": [
    {
     "name": "stdout",
     "output_type": "stream",
     "text": [
      "144\n",
      "16\n",
      "27040\n",
      "10\n"
     ]
    }
   ],
   "source": [
    "for parameter in model.parameters():\n",
    "    print(parameter.numel())\n",
    "    \n",
    "# Vidimo, da s konvolucijsko mrežo dobimo boljše rezultate, čeprav vsebuje manj parametrov"
   ]
  },
  {
   "cell_type": "markdown",
   "metadata": {},
   "source": [
    "2.C: Modelu dodaj še en konvolucijski sloj in maxpooling sloj, ga natreniraj, preveri njegovo točnost na testni množici in preveri koliko parametrov ima. Opaziš kaj nenavadnega?"
   ]
  },
  {
   "cell_type": "code",
   "execution_count": 19,
   "metadata": {},
   "outputs": [],
   "source": [
    "class CNN2(nn.Module):\n",
    "    def __init__(self):\n",
    "        super(CNN2, self).__init__()\n",
    "\n",
    "        self.convolution = nn.Sequential(\n",
    "            nn.Conv2d(1, 16, kernel_size=3),\n",
    "            nn.ReLU(),\n",
    "            nn.MaxPool2d(kernel_size=2),\n",
    "            nn.Conv2d(16, 32, kernel_size=3),\n",
    "            nn.ReLU(),\n",
    "            nn.MaxPool2d(kernel_size=2))\n",
    "\n",
    "        self.fc = nn.Linear(32*5*5, 10)\n",
    "        \n",
    "        \n",
    "    \n",
    "    def forward(self, x):\n",
    "        x = self.convolution(x)\n",
    "        x = x.reshape(x.size(0), -1)\n",
    "        x = self.fc(x)\n",
    "        return x"
   ]
  },
  {
   "cell_type": "code",
   "execution_count": 20,
   "metadata": {},
   "outputs": [
    {
     "name": "stdout",
     "output_type": "stream",
     "text": [
      "Accuracy on the test set before training\n"
     ]
    },
    {
     "name": "stderr",
     "output_type": "stream",
     "text": [
      "Testing: 100%|██████████| 10016/10016 [00:01<00:00, 6971.63chunks/s]\n"
     ]
    },
    {
     "name": "stdout",
     "output_type": "stream",
     "text": [
      "Test set: Avg. loss: 2.346103991944188, Correct predictions: 518/10000\n",
      "\n"
     ]
    },
    {
     "name": "stderr",
     "output_type": "stream",
     "text": [
      "Training - Epoch: 1/5: 100%|██████████| 60000/60000 [00:14<00:00, 4039.74chunks/s, loss=0.317]\n",
      "Training - Epoch: 2/5: 100%|██████████| 60000/60000 [00:14<00:00, 4095.76chunks/s, loss=0.108]\n",
      "Training - Epoch: 3/5: 100%|██████████| 60000/60000 [00:14<00:00, 4118.12chunks/s, loss=0.0815]\n",
      "Training - Epoch: 4/5: 100%|██████████| 60000/60000 [00:14<00:00, 4110.14chunks/s, loss=0.0676]\n",
      "Training - Epoch: 5/5: 100%|██████████| 60000/60000 [00:14<00:00, 4103.11chunks/s, loss=0.0599]\n"
     ]
    },
    {
     "name": "stdout",
     "output_type": "stream",
     "text": [
      "Finished Training\n",
      "\n",
      "Accuracy on the test set after training the model\n"
     ]
    },
    {
     "name": "stderr",
     "output_type": "stream",
     "text": [
      "Testing: 100%|██████████| 10016/10016 [00:01<00:00, 6918.11chunks/s]"
     ]
    },
    {
     "name": "stdout",
     "output_type": "stream",
     "text": [
      "Test set: Avg. loss: 0.052435017226951215, Correct predictions: 9832/10000\n"
     ]
    },
    {
     "name": "stderr",
     "output_type": "stream",
     "text": [
      "\n"
     ]
    }
   ],
   "source": [
    "torch.manual_seed(42)\n",
    "model = CNN2()\n",
    "epochs = 5\n",
    "\n",
    "print(\"Accuracy on the test set before training\")\n",
    "print(end=\"\")\n",
    "test(model, test_set, batch_size)\n",
    "print()\n",
    "\n",
    "train(epochs, model, train_set, batch_size)\n",
    "print()\n",
    "\n",
    "print(\"Accuracy on the test set after training the model\")\n",
    "test(model, test_set, batch_size)"
   ]
  },
  {
   "cell_type": "code",
   "execution_count": 21,
   "metadata": {},
   "outputs": [
    {
     "name": "stdout",
     "output_type": "stream",
     "text": [
      "144\n",
      "16\n",
      "4608\n",
      "32\n",
      "8000\n",
      "10\n"
     ]
    }
   ],
   "source": [
    "for parameter in model.parameters():\n",
    "    print(parameter.numel())\n",
    "    \n",
    "# Čeprav smo dodali več slojev, se je število parametrov zmanjšalo, točnost modela pa se je povečala\n",
    "# Razlog za manjše število parametrov je manjša vhodna dimenzija polno-povezanega sloja, saj so kanali,\n",
    "# ki jih dobimo iz drugega maxpool sloja manjši."
   ]
  },
  {
   "cell_type": "markdown",
   "metadata": {},
   "source": [
    "## Dodatna naloga: Eksperimenti z nevronskimi mrežami"
   ]
  },
  {
   "cell_type": "markdown",
   "metadata": {},
   "source": [
    "D.a: Poigraj se z naslednjimi parametri, da dobiš čim boljši model:\n",
    "- število konvolucijskih slojev v mreži\n",
    "- število polno-povezanih slojev v mreži\n",
    "- velikost jedra konvolucijskega sloja\n",
    "- velikost jedra maxpool sloja\n",
    "- število nevronov v polno povezanih slojih\n",
    "- število izhodnih kanalov konvolucijskega sloja\n",
    "- hitrost učenja\n",
    "- optimizator (Adam)"
   ]
  },
  {
   "cell_type": "code",
   "execution_count": null,
   "metadata": {},
   "outputs": [],
   "source": []
  },
  {
   "cell_type": "markdown",
   "metadata": {},
   "source": [
    "D.b: Opiši, kako bi z nevronsko mrežo sestavil model linearne regresije, ki se parametrov nauči iterativno in ne eksaktno."
   ]
  },
  {
   "cell_type": "code",
   "execution_count": null,
   "metadata": {},
   "outputs": [],
   "source": []
  }
 ],
 "metadata": {
  "kernelspec": {
   "display_name": "ITAP24",
   "language": "python",
   "name": "python3"
  },
  "language_info": {
   "codemirror_mode": {
    "name": "ipython",
    "version": 3
   },
   "file_extension": ".py",
   "mimetype": "text/x-python",
   "name": "python",
   "nbconvert_exporter": "python",
   "pygments_lexer": "ipython3",
   "version": "3.11.7"
  }
 },
 "nbformat": 4,
 "nbformat_minor": 2
}
