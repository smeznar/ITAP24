{
 "cells": [
  {
   "cell_type": "markdown",
   "metadata": {},
   "source": [
    "# Vaje 9: Nenadzorovano učenje"
   ]
  },
  {
   "cell_type": "markdown",
   "metadata": {},
   "source": [
    "## Naloga 1: Algoritem k-tih voditeljev"
   ]
  },
  {
   "cell_type": "markdown",
   "metadata": {},
   "source": [
    "Najprej si bomo pogledali metodo k-tih voditeljev. Delali bomo z zgodovinskimi podatki glasovanja na Euroviziji in si pogledali, če lahko najdemo gruče (skupine) držav, ki pogosto glasujejo druga za drugo."
   ]
  },
  {
   "cell_type": "markdown",
   "metadata": {},
   "source": [
    "![Kmeans](https://upload.wikimedia.org/wikipedia/commons/thumb/e/ea/K-means_convergence.gif/617px-K-means_convergence.gif)"
   ]
  },
  {
   "cell_type": "markdown",
   "metadata": {},
   "source": [
    "1.a: Preberi podatke iz datoteke `vaje9_1.csv` (vaje 1), jih spremeni v numpy array, loči na imena držav in povprečno število glasov. Za tem spremeni vrednosti v matriki tako, da bo vsaka država sebi dala 12 točk (vrstni red držav je isti po vrsticah in stolpcih)."
   ]
  },
  {
   "cell_type": "code",
   "execution_count": null,
   "metadata": {},
   "outputs": [],
   "source": []
  },
  {
   "cell_type": "markdown",
   "metadata": {},
   "source": [
    "1.b: Z algoritmom KMeans (`sklearn.cluster.KMeans`) države gruči v 5 gruč in izpiši katere države se pojavijo znotraj katere gruče. Kaj opaziš, če algoritem večkrat poženeš?"
   ]
  },
  {
   "cell_type": "code",
   "execution_count": null,
   "metadata": {},
   "outputs": [],
   "source": []
  },
  {
   "cell_type": "markdown",
   "metadata": {},
   "source": [
    "1.c: Z uporabo metrik `silhouette_score` in `calinski_harabasz_score` preveri kvaliteto gruč in najdi najboljši $k$. Za vsak $k$ algoritem večkrat poženi (npr. 100-krat)."
   ]
  },
  {
   "cell_type": "code",
   "execution_count": null,
   "metadata": {},
   "outputs": [],
   "source": []
  },
  {
   "cell_type": "markdown",
   "metadata": {},
   "source": [
    "1.d: Zmanjšaj dimenzijo podatkov na 2 ali 3 z uporabo metode TSNE in algoritem k-gruč še enkrat poženi. So gruče sedaj bolj kvalitetne in stabilne? So gruče takšne, kot bi jih pričakoval?"
   ]
  },
  {
   "cell_type": "code",
   "execution_count": null,
   "metadata": {},
   "outputs": [],
   "source": []
  },
  {
   "cell_type": "markdown",
   "metadata": {},
   "source": [
    "## Naloga 2: Hierarhično razvrščanje"
   ]
  },
  {
   "cell_type": "markdown",
   "metadata": {},
   "source": [
    "Za hierarhično razvrščanje bomo poleg knjižnjice sklearn uporabljali tudi knjižnjico scipy, saj nam omogoča lažji izris dendrograma z rezultati. Knjižnjica scipy se načeloma inštalira skupaj s knjižnjico sklearn, lahko jo pa inštaliramo tudi z ukazom `pip install scipy`."
   ]
  },
  {
   "cell_type": "markdown",
   "metadata": {},
   "source": [
    "2.a: Z uporabo knjižnjice sklearn in metode hierarhičnega razvrščanja sestavi 5 gruč držav na transformiranih podatkih iz prve naloge ter države v gručah izpiši.\n",
    "\n",
    "\n",
    "<details>\n",
    "  <summary>Namig:</summary>\n",
    "\n",
    "  *V knjižnjici sklearn se hierarhično razvrščanje pojavi pod imenom [sklearn.cluster.AgglomerativeClustering](https://scikit-learn.org/stable/modules/generated/sklearn.cluster.AgglomerativeClustering.html)*.\n",
    "   \n",
    "</details>"
   ]
  },
  {
   "cell_type": "code",
   "execution_count": null,
   "metadata": {},
   "outputs": [],
   "source": []
  },
  {
   "cell_type": "markdown",
   "metadata": {},
   "source": [
    "2.b: Verzija hierarhičnega razvrščanja, ki jo bomo uporabili na začetku na vsak podatek gleda kot na posamezno gručo, nato pa gruče postopoma združuje z različnimi metodami povezovanja. Poskusi različne metode združevanja: \"single\", pri kateri razdaljo definiramo kot najmanjšo razdaljo med pari točk v gručah; \"average\", ki razdaljo definira kot povprečno razdaljo med pari točk znotraj gruč; \"complete\", ki razdaljo med gručami definira kot maksimalno razdaljo med pari točk in \"ward\", ki minimizira varianco gruč, ki jih združimo. Za vsako metodo povezovanja preveri silhueto gruč."
   ]
  },
  {
   "cell_type": "code",
   "execution_count": null,
   "metadata": {},
   "outputs": [],
   "source": []
  },
  {
   "cell_type": "markdown",
   "metadata": {},
   "source": [
    "2.c: Sedaj gruče poiščimo s knjižnjico scipy ([scipy.cluster.hierarchy](https://docs.scipy.org/doc/scipy/reference/cluster.hierarchy.html)) in metodo `linkage`, ki nam vrne matriko združevanja. Z matriko združevanja in metodo `dendrogram`, lahko izrišemo dendrogram/našo hierarhijo. Nariši dendrograme za različne metode povezovanja. Pri funkciji `dendrogram` ne pozabi parametra *labels*, s katerim podatkom dodaš ime, za lepši izpis. Število clustrov določite s parametrom *color_threshold*, ki določi razdaljo pri kateri \"povezave med gručami razrežemo\". Metodo povezovanja lahko v funkciji `linkage` spreminjaš s parametrom *method*."
   ]
  },
  {
   "cell_type": "code",
   "execution_count": null,
   "metadata": {},
   "outputs": [],
   "source": []
  },
  {
   "cell_type": "markdown",
   "metadata": {},
   "source": [
    "## Dodatna naloga: DBSCAN"
   ]
  },
  {
   "cell_type": "markdown",
   "metadata": {},
   "source": [
    "D.a: Poglej si kako deluje algoritem DBSCAN in sestavi podatkovno množico, na kateri bo pravilno našel gruče, medtem to bo algoritem k voditeljev pri iskanju gruč neuspešen."
   ]
  },
  {
   "cell_type": "code",
   "execution_count": null,
   "metadata": {},
   "outputs": [],
   "source": []
  },
  {
   "cell_type": "markdown",
   "metadata": {},
   "source": [
    "D.b: Z uporabo plt.scatter na podatkih iz naloge D.a vizualiziraj gruče, ki jih dobiš z algoritmom k voditeljev in DBSCAN-om."
   ]
  },
  {
   "cell_type": "code",
   "execution_count": null,
   "metadata": {},
   "outputs": [],
   "source": []
  },
  {
   "cell_type": "markdown",
   "metadata": {},
   "source": [
    "D.c: Sestavi podatkovno množico, na kateri bo algoritem k voditeljev našel pravilne gruče, DBSCAN pa ne."
   ]
  },
  {
   "cell_type": "code",
   "execution_count": null,
   "metadata": {},
   "outputs": [],
   "source": []
  }
 ],
 "metadata": {
  "language_info": {
   "name": "python"
  }
 },
 "nbformat": 4,
 "nbformat_minor": 2
}
