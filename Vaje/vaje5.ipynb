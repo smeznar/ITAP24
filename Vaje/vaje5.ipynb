{
 "cells": [
  {
   "cell_type": "markdown",
   "metadata": {},
   "source": [
    "# Vaje 5: Metoda podpornih vektorjev"
   ]
  },
  {
   "cell_type": "markdown",
   "metadata": {},
   "source": [
    "## Naloga 1: Linearno jedro in parameter C (cena)"
   ]
  },
  {
   "cell_type": "markdown",
   "metadata": {},
   "source": [
    "1.a: Pripravi umetne, linearno ločljive podatke z dvema napovednima spremenljivkama. Množica podatkov naj vsebuje 1000 točk in naj bo mešanica dveh normalnih porazdelitev; ene s centrom v -2 in druge s centrom v 2. Ciljna spremenljivka naj bo dvojiška, njeni vrednosti pa naj sovpadata z obema porazdelitvama. "
   ]
  },
  {
   "cell_type": "code",
   "execution_count": null,
   "metadata": {},
   "outputs": [],
   "source": []
  },
  {
   "cell_type": "markdown",
   "metadata": {},
   "source": [
    "1.b: Podatke vizualiziraj s pomočjo metode `matplotlib.pyplot.scatter`. So podatki res linearno ločljivi?"
   ]
  },
  {
   "cell_type": "code",
   "execution_count": null,
   "metadata": {},
   "outputs": [],
   "source": []
  },
  {
   "cell_type": "markdown",
   "metadata": {},
   "source": [
    "1.c: Natreniraj model podpornih vektorje z linearnim jedrom in oceni njegovo točnost.\n",
    "\n",
    "<details>\n",
    "  <summary>Namig:</summary>\n",
    "\n",
    "  *Pomagaj si z [modelom sklearn.svm.SVC](https://scikit-learn.org/stable/modules/generated/sklearn.svm.SVC.html).\n",
    "   \n",
    "</details>"
   ]
  },
  {
   "cell_type": "code",
   "execution_count": null,
   "metadata": {},
   "outputs": [],
   "source": []
  },
  {
   "cell_type": "markdown",
   "metadata": {},
   "source": [
    "1.d: Natreniraj model podpornih vektorjev na vseh podatkih in vizualiziraj odločitveno krivuljo s pomočjo metode `vizualize_decision_boundery`. Je model uspel podatke pravilno ločiti."
   ]
  },
  {
   "cell_type": "code",
   "execution_count": null,
   "metadata": {},
   "outputs": [],
   "source": [
    "def vizualize_decision_boundery(model, X, y):\n",
    "    h = 0.02\n",
    "\n",
    "    x_min, x_max = X[:, 0].min() - 1, X[:, 0].max() + 1\n",
    "    y_min, y_max = X[:, 1].min() - 1, X[:, 1].max() + 1\n",
    "    xx, yy = np.meshgrid(np.arange(x_min, x_max, h),\n",
    "                     np.arange(y_min, y_max, h))\n",
    "\n",
    "    Z = model.predict(np.c_[xx.ravel(), yy.ravel()])\n",
    "\n",
    "    Z = Z.reshape(xx.shape)\n",
    "    plt.contourf(xx, yy, Z, cmap=plt.cm.coolwarm, alpha=0.8)\n",
    "\n",
    "    plt.scatter(X[:, 0], X[:, 1], c=y, cmap=plt.cm.coolwarm)\n",
    "    plt.xlim(xx.min(), xx.max())\n",
    "    plt.ylim(yy.min(), yy.max())\n",
    "\n",
    "    plt.show()"
   ]
  },
  {
   "cell_type": "code",
   "execution_count": null,
   "metadata": {},
   "outputs": [],
   "source": []
  },
  {
   "cell_type": "markdown",
   "metadata": {},
   "source": [
    "1.e: Podatkovni množici dodaj 50 točk, ki bodo vzorčeni iz normalne porazdelitve s centrom v [-10, 2]. Ciljna vrednost novih točk naj sovpada s ciljno vrednostjo točk iz porazdelitve s centrom v 2. "
   ]
  },
  {
   "cell_type": "code",
   "execution_count": null,
   "metadata": {},
   "outputs": [],
   "source": []
  },
  {
   "cell_type": "markdown",
   "metadata": {},
   "source": [
    "1.f: Preveri točnost modela podpornih vektorjev za različno vrednost parametra C."
   ]
  },
  {
   "cell_type": "code",
   "execution_count": null,
   "metadata": {},
   "outputs": [],
   "source": []
  },
  {
   "cell_type": "markdown",
   "metadata": {},
   "source": [
    "1.g: Vizualiziraj odločitveno krivuljo za različne vrednosti parametra C. Se krivulja spremeni med različnimi vrednostmi. Če se, kakšna je ta sprememba?"
   ]
  },
  {
   "cell_type": "code",
   "execution_count": null,
   "metadata": {},
   "outputs": [],
   "source": []
  },
  {
   "cell_type": "markdown",
   "metadata": {},
   "source": [
    "## Naloga 2: Različna jedra"
   ]
  },
  {
   "cell_type": "markdown",
   "metadata": {},
   "source": [
    "2.a: Poglejmo primer podatkov, ki niso ločljivi linearno. Sestavi podatkovno množico, kjer bodo podatki razdeljeni v dva koncentrična kroga. Radij naj bo vzorčen iz mešanice dveh normalinih porazdelitev s centri v 2 in 4, ter standardno deviacijo 0.3, kot pa naj bo porazdeljen enakomerno med 0 in 1. Podatke tudi vizualiziraj.\n",
    "\n",
    "<details>\n",
    "  <summary>Namig:</summary>\n",
    "  *Podatke o radiju in kotu ne pozabi pretvoriti v evklidski koordinatni sistem.*\n",
    "</details>"
   ]
  },
  {
   "cell_type": "code",
   "execution_count": null,
   "metadata": {},
   "outputs": [],
   "source": []
  },
  {
   "cell_type": "markdown",
   "metadata": {},
   "source": [
    "2.b: Preveri točnost modela podpornih vektorjev z linearnim jedrom in vizualiziraj odločitveno krivuljo. Je uporaba tega jedra primerna za dane podatke?"
   ]
  },
  {
   "cell_type": "code",
   "execution_count": null,
   "metadata": {},
   "outputs": [],
   "source": []
  },
  {
   "cell_type": "markdown",
   "metadata": {},
   "source": [
    "2.c: Preveri točnost modela podpornih vektorjev z polinomskim jedrom različnih stopenj (npr. 1-5). Za vsako vizualiziraj odločitveno krivuljo. Je uporaba tega jedra bolj primerna za dane podatke? Katere stopnje delujejo boljse in katere slabše?"
   ]
  },
  {
   "cell_type": "code",
   "execution_count": null,
   "metadata": {},
   "outputs": [],
   "source": []
  },
  {
   "cell_type": "markdown",
   "metadata": {},
   "source": [
    "2.d: Preveri še točnost modela, ki ima jedrom iz radialnih baznih funkcij (\"rbf\" v paketu sklearn)."
   ]
  },
  {
   "cell_type": "code",
   "execution_count": null,
   "metadata": {},
   "outputs": [],
   "source": []
  },
  {
   "cell_type": "markdown",
   "metadata": {},
   "source": [
    "2.e: Pripravi novo podatkovno množico, v kateri podatki prihajajo iz istih distribucij, a s standardno deviacijo 2."
   ]
  },
  {
   "cell_type": "code",
   "execution_count": null,
   "metadata": {},
   "outputs": [],
   "source": []
  },
  {
   "cell_type": "markdown",
   "metadata": {},
   "source": [
    "2.f: Na novih podatkih poišči najboljši SVM model. Preizkusi različna jedra in vrednosti parametra C"
   ]
  },
  {
   "cell_type": "code",
   "execution_count": null,
   "metadata": {},
   "outputs": [],
   "source": []
  }
 ],
 "metadata": {
  "language_info": {
   "name": "python"
  }
 },
 "nbformat": 4,
 "nbformat_minor": 2
}
