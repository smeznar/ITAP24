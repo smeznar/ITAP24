{
 "cells": [
  {
   "cell_type": "markdown",
   "metadata": {},
   "source": [
    "# Vaje 9: Nenadzorovano učenje"
   ]
  },
  {
   "cell_type": "markdown",
   "metadata": {},
   "source": [
    "## Naloga 1: Algoritem k-tih voditeljev"
   ]
  },
  {
   "cell_type": "markdown",
   "metadata": {},
   "source": [
    "Najprej si bomo pogledali metodo k-tih voditeljev. Delali bomo z zgodovinskimi podatki glasovanja na Euroviziji in si pogledali, če lahko najdemo gruče (skupine) držav, ki pogosto glasujejo druga za drugo."
   ]
  },
  {
   "cell_type": "markdown",
   "metadata": {},
   "source": [
    "![Kmeans](https://upload.wikimedia.org/wikipedia/commons/thumb/e/ea/K-means_convergence.gif/617px-K-means_convergence.gif)"
   ]
  },
  {
   "cell_type": "markdown",
   "metadata": {},
   "source": [
    "1.a: Preberi podatke iz datoteke `vaje9_1.csv` (vaje 1), jih spremeni v numpy array, loči na imena držav in povprečno število glasov. Za tem spremeni vrednosti v matriki tako, da bo vsaka država sebi dala 12 točk (vrstni red držav je isti po vrsticah in stolpcih)."
   ]
  },
  {
   "cell_type": "code",
   "execution_count": 1,
   "metadata": {},
   "outputs": [],
   "source": [
    "import pandas as pd"
   ]
  },
  {
   "cell_type": "code",
   "execution_count": 2,
   "metadata": {},
   "outputs": [],
   "source": [
    "df = pd.read_csv(\"../Podatki/vaje9.csv\")\n",
    "data = df.to_numpy()\n",
    "names = data[:, 0]\n",
    "votes = data[:, 1:]\n",
    "for i in range(votes.shape[0]):\n",
    "    votes[i, i] = 12"
   ]
  },
  {
   "cell_type": "markdown",
   "metadata": {},
   "source": [
    "1.b: Z algoritmom KMeans (`sklearn.cluster.KMeans`) države gruči v 5 gruč in izpiši katere države se pojavijo znotraj katere gruče. Kaj opaziš, če algoritem večkrat poženeš?"
   ]
  },
  {
   "cell_type": "code",
   "execution_count": 3,
   "metadata": {},
   "outputs": [],
   "source": [
    "from sklearn.cluster import KMeans\n",
    "import numpy as np\n",
    "from sklearn.metrics import silhouette_score, calinski_harabasz_score"
   ]
  },
  {
   "cell_type": "code",
   "execution_count": 4,
   "metadata": {},
   "outputs": [
    {
     "name": "stdout",
     "output_type": "stream",
     "text": [
      "['Armenia' 'Belarus' 'Bulgaria' 'Cyprus' 'Georgia' 'Greece' 'Lithuania'\n",
      " 'Moldova' 'Poland' 'Romania' 'Russia' 'Ukraine']\n",
      "['Andorra' 'Belgium' 'France' 'Ireland' 'Italy' 'Luxembourg' 'Malta'\n",
      " 'Monaco' 'Portugal' 'Spain' 'Turkey' 'United Kingdom']\n",
      "['Croatia' 'Czech Republic' 'Slovenia']\n",
      "['Austria' 'Denmark' 'Estonia' 'Finland' 'Germany' 'Hungary' 'Iceland'\n",
      " 'Latvia' 'Norway' 'San Marino' 'Slovakia' 'Sweden' 'Switzerland'\n",
      " 'The Netherlands']\n",
      "['Albania' 'Bosnia & Herzegovina' 'F.Y.R. Macedonia' 'Montenegro' 'Serbia']\n"
     ]
    }
   ],
   "source": [
    "kmeans = KMeans(n_clusters=5, max_iter=1000).fit_predict(votes, names)\n",
    "for i in range(np.max(kmeans)+1):\n",
    "    countries = names[i==kmeans]\n",
    "    print(countries)"
   ]
  },
  {
   "cell_type": "markdown",
   "metadata": {},
   "source": [
    "Vidimo lahko, da so gruče zelo nestabilne, torej so gruče z vsakim pogonom drugačne."
   ]
  },
  {
   "cell_type": "markdown",
   "metadata": {},
   "source": [
    "1.c: Z uporabo metrik `silhouette_score` in `calinski_harabasz_score` preveri kvaliteto gruč in najdi najboljši $k$. Za vsak $k$ algoritem večkrat poženi (npr. 100-krat)."
   ]
  },
  {
   "cell_type": "code",
   "execution_count": 5,
   "metadata": {},
   "outputs": [
    {
     "name": "stdout",
     "output_type": "stream",
     "text": [
      "2 clusters: 0.1255928180614543 (0.0017491869114467748)\n",
      "2 clusters: 6.251339913481904 (1.8181679929459509)\n",
      "\n",
      "3 clusters: 0.1155476181845507 (0.00045370666210261444)\n",
      "3 clusters: 6.282350988300149 (1.1284113795464799)\n",
      "\n",
      "4 clusters: 0.10563621935478892 (0.00027072589905409656)\n",
      "4 clusters: 5.550965458611786 (0.14515664244392648)\n",
      "\n",
      "5 clusters: 0.09547774565258253 (0.0002533262027911881)\n",
      "5 clusters: 4.825656705510234 (0.11792763518247132)\n",
      "\n",
      "6 clusters: 0.09211707287697436 (0.00023318303892673156)\n",
      "6 clusters: 4.479830467078259 (0.06729736287793052)\n",
      "\n",
      "7 clusters: 0.08726512697348605 (0.00023612036588390874)\n",
      "7 clusters: 4.148986012618419 (0.05982071151896577)\n",
      "\n",
      "8 clusters: 0.08822488349968531 (0.00021114746935798796)\n",
      "8 clusters: 3.9764456757057784 (0.04297947725552809)\n",
      "\n",
      "9 clusters: 0.08534048701822354 (0.00028800694979103206)\n",
      "9 clusters: 3.804691654146503 (0.042191619799933314)\n",
      "\n"
     ]
    }
   ],
   "source": [
    "for k in range(2, 10):\n",
    "    silhouette = []\n",
    "    calinski = []\n",
    "    for i in range(100):\n",
    "        predictions = KMeans(n_clusters=k).fit_predict(votes)\n",
    "        silhouette.append(silhouette_score(votes, predictions))\n",
    "        calinski.append(calinski_harabasz_score(votes, predictions))\n",
    "    print(f\"{k} clusters: {np.mean(silhouette)} ({np.var(silhouette)})\")\n",
    "    print(f\"{k} clusters: {np.mean(calinski)} ({np.var(calinski)})\")\n",
    "    print()"
   ]
  },
  {
   "cell_type": "markdown",
   "metadata": {},
   "source": [
    "Vidimo, da je vrednost silhuete največja pri 2, 3 in 4ih gručah, a da so vrednosti silhuete tudi tu zelo nizke (vrednost silhuete je med -1 in 1; Rule of thumb: vrednosti 0.7 in več nakazujejo, da so gruče dobre, okoli 0.5 uredu in gruče s silhueto 0.25 slabe). Vrednosti silhuet v našem primeru nakazujejo, da so gruče slabe."
   ]
  },
  {
   "cell_type": "markdown",
   "metadata": {},
   "source": [
    "1.d: Zmanjšaj dimenzijo podatkov na 2 ali 3 z uporabo metode TSNE in algoritem k-gruč še enkrat poženi. So gruče sedaj bolj kvalitetne in stabilne? So gruče takšne, kot bi jih pričakoval?"
   ]
  },
  {
   "cell_type": "code",
   "execution_count": 6,
   "metadata": {},
   "outputs": [],
   "source": [
    "from sklearn.manifold import TSNE"
   ]
  },
  {
   "cell_type": "code",
   "execution_count": 7,
   "metadata": {},
   "outputs": [
    {
     "name": "stdout",
     "output_type": "stream",
     "text": [
      "2 clusters: 0.10765322606628465 (+- 0.0004428134110092679)\n",
      "2 clusters: 0.34832268953323364 (+- 0.00028045722865499556)\n",
      "\n",
      "3 clusters: 0.10992535528682763 (+- 7.444155454998535e-05)\n",
      "3 clusters: 0.4030742049217224 (+- 0.00030944234458729625)\n",
      "\n",
      "4 clusters: 0.10657549915067707 (+- 9.258259840060981e-05)\n",
      "4 clusters: 0.40631741285324097 (+- 0.0003945749194826931)\n",
      "\n",
      "5 clusters: 0.09691614076644392 (+- 0.00017319812330151958)\n",
      "5 clusters: 0.3927471339702606 (+- 0.00029397656908258796)\n",
      "\n",
      "6 clusters: 0.08309804130345211 (+- 4.0805186231777923e-05)\n",
      "6 clusters: 0.4048043191432953 (+- 0.0006701177917420864)\n",
      "\n",
      "7 clusters: 0.09163364249202155 (+- 6.272125932899999e-05)\n",
      "7 clusters: 0.40732651948928833 (+- 0.000887608272023499)\n",
      "\n",
      "8 clusters: 0.0863634710382981 (+- 0.00015846834621139957)\n",
      "8 clusters: 0.4137435555458069 (+- 0.0009652917506173253)\n",
      "\n",
      "9 clusters: 0.09280807168474177 (+- 0.00014670645982774435)\n",
      "9 clusters: 0.44058647751808167 (+- 0.0005176105769351125)\n",
      "\n"
     ]
    }
   ],
   "source": [
    "for k in range(2, 10):\n",
    "    scores = []\n",
    "    transformed_scores = []\n",
    "    for i in range(10):\n",
    "        transformed = TSNE(n_components=2).fit_transform(votes)\n",
    "        predictions = KMeans(n_clusters=k).fit_predict(transformed)\n",
    "        scores.append(silhouette_score(votes, predictions))\n",
    "        transformed_scores.append(silhouette_score(transformed, predictions))\n",
    "    print(f\"{k} clusters: {np.mean(scores)} (+- {np.var(scores)})\")\n",
    "    print(f\"{k} clusters: {np.mean(transformed_scores)} (+- {np.var(transformed_scores)})\")\n",
    "    print()"
   ]
  },
  {
   "cell_type": "code",
   "execution_count": 12,
   "metadata": {},
   "outputs": [
    {
     "name": "stdout",
     "output_type": "stream",
     "text": [
      "['Albania' 'Bosnia & Herzegovina' 'Croatia' 'F.Y.R. Macedonia'\n",
      " 'Montenegro' 'Serbia' 'Slovenia']\n",
      "['Belgium' 'Czech Republic' 'Estonia' 'Hungary' 'Latvia' 'Poland']\n",
      "['Denmark' 'Finland' 'Iceland' 'Ireland' 'Italy' 'Luxembourg' 'Monaco'\n",
      " 'Norway' 'Sweden' 'United Kingdom']\n",
      "['Bulgaria' 'Cyprus' 'France' 'Greece' 'Romania' 'San Marino' 'Turkey']\n",
      "['Austria' 'Germany' 'Malta' 'Slovakia' 'Switzerland' 'The Netherlands']\n",
      "['Andorra' 'Lithuania' 'Portugal' 'Spain']\n",
      "['Armenia' 'Belarus' 'Georgia' 'Moldova' 'Russia' 'Ukraine']\n"
     ]
    }
   ],
   "source": [
    "kmeans = KMeans(n_clusters=7, max_iter=1000).fit_predict(transformed, names)\n",
    "for i in range(np.max(kmeans)+1):\n",
    "    countries = names[i==kmeans]\n",
    "    print(countries)"
   ]
  },
  {
   "cell_type": "markdown",
   "metadata": {},
   "source": [
    "Sedaj so gruče bolj stabilne. Ob pogledu na gruče vidimo, da so države, za katere pričakujemo da bodo skupaj, res skupaj (ex-yu države; Armenia', 'Belarus', 'Georgia', 'Moldova', 'Russia', 'Ukraine'; ...)"
   ]
  },
  {
   "cell_type": "markdown",
   "metadata": {},
   "source": [
    "## Naloga 2: Hierarhično razvrščanje"
   ]
  },
  {
   "cell_type": "markdown",
   "metadata": {},
   "source": [
    "Za hierarhično razvrščanje bomo poleg knjižnjice sklearn uporabljali tudi knjižnjico scipy, saj nam omogoča lažji izris dendrograma z rezultati. Knjižnjica scipy se načeloma inštalira skupaj s knjižnjico sklearn, lahko jo pa inštaliramo tudi z ukazom `pip install scipy`."
   ]
  },
  {
   "cell_type": "markdown",
   "metadata": {},
   "source": [
    "2.a: Z uporabo knjižnjice sklearn in metode hierarhičnega razvrščanja sestavi 5 gruč držav na transformiranih podatkih iz prve naloge ter države v gručah izpiši.\n",
    "\n",
    "\n",
    "<details>\n",
    "  <summary>Namig:</summary>\n",
    "\n",
    "  *V knjižnjici sklearn se hierarhično razvrščanje pojavi pod imenom [sklearn.cluster.AgglomerativeClustering](https://scikit-learn.org/stable/modules/generated/sklearn.cluster.AgglomerativeClustering.html)*.\n",
    "   \n",
    "</details>"
   ]
  },
  {
   "cell_type": "code",
   "execution_count": 13,
   "metadata": {},
   "outputs": [],
   "source": [
    "from sklearn.cluster import AgglomerativeClustering"
   ]
  },
  {
   "cell_type": "code",
   "execution_count": 15,
   "metadata": {},
   "outputs": [
    {
     "name": "stdout",
     "output_type": "stream",
     "text": [
      "['Austria' 'Belgium' 'Czech Republic' 'Denmark' 'Finland' 'Germany'\n",
      " 'Hungary' 'Iceland' 'Ireland' 'Luxembourg' 'Malta' 'Monaco' 'Norway'\n",
      " 'Poland' 'Slovakia' 'Sweden' 'Switzerland' 'The Netherlands'\n",
      " 'United Kingdom']\n",
      "['Andorra' 'Estonia' 'Italy' 'Latvia' 'Lithuania' 'Portugal' 'Spain']\n",
      "['Bosnia & Herzegovina' 'Croatia' 'F.Y.R. Macedonia' 'Montenegro' 'Serbia'\n",
      " 'Slovenia']\n",
      "['Albania' 'Bulgaria' 'Cyprus' 'France' 'Greece' 'Romania' 'San Marino'\n",
      " 'Turkey']\n",
      "['Armenia' 'Belarus' 'Georgia' 'Moldova' 'Russia' 'Ukraine']\n",
      "0.39590997\n"
     ]
    }
   ],
   "source": [
    "hierarhical = AgglomerativeClustering(n_clusters=5).fit_predict(transformed, names)\n",
    "for i in range(np.max(hierarhical)+1):\n",
    "    countries = names[i==hierarhical]\n",
    "    print(countries)\n",
    "\n",
    "print(silhouette_score(transformed, hierarhical))"
   ]
  },
  {
   "cell_type": "markdown",
   "metadata": {},
   "source": [
    "2.b: Verzija hierarhičnega razvrščanja, ki jo bomo uporabili na začetku na vsak podatek gleda kot na posamezno gručo, nato pa gruče postopoma združuje z različnimi metodami povezovanja. Poskusi različne metode združevanja: \"single\", pri kateri razdaljo definiramo kot najmanjšo razdaljo med pari točk v gručah; \"average\", ki razdaljo definira kot povprečno razdaljo med pari točk znotraj gruč; \"complete\", ki razdaljo med gručami definira kot maksimalno razdaljo med pari točk in \"ward\", ki minimizira varianco gruč, ki jih združimo. Za vsako metodo povezovanja preveri silhueto gruč."
   ]
  },
  {
   "cell_type": "code",
   "execution_count": 17,
   "metadata": {},
   "outputs": [
    {
     "name": "stdout",
     "output_type": "stream",
     "text": [
      "single 0.080026224\n",
      "average 0.35467204\n",
      "complete 0.38577864\n",
      "ward 0.39590997\n"
     ]
    }
   ],
   "source": [
    "for linkage in [\"single\", \"average\", \"complete\", \"ward\"]:\n",
    "    hierarhical = AgglomerativeClustering(n_clusters=5, linkage=linkage).fit_predict(transformed, names)\n",
    "    # for i in range(np.max(hierarhical)+1):\n",
    "        # countries = names[i==hierarhical]\n",
    "        # print(countries)\n",
    "\n",
    "    print(linkage, silhouette_score(transformed, hierarhical))"
   ]
  },
  {
   "cell_type": "markdown",
   "metadata": {},
   "source": [
    "2.c: Sedaj gruče poiščimo s knjižnjico scipy ([scipy.cluster.hierarchy](https://docs.scipy.org/doc/scipy/reference/cluster.hierarchy.html)) in metodo `linkage`, ki nam vrne matriko združevanja. Z matriko združevanja in metodo `dendrogram`, lahko izrišemo dendrogram/našo hierarhijo. Nariši dendrograme za različne metode povezovanja. Pri funkciji `dendrogram` ne pozabi parametra *labels*, s katerim podatkom dodaš ime, za lepši izpis. Število clustrov določite s parametrom *color_threshold*, ki določi razdaljo pri kateri \"povezave med gručami razrežemo\". Metodo povezovanja lahko v funkciji `linkage` spreminjaš s parametrom *method*."
   ]
  },
  {
   "cell_type": "code",
   "execution_count": 18,
   "metadata": {},
   "outputs": [],
   "source": [
    "from scipy.cluster import hierarchy"
   ]
  },
  {
   "cell_type": "code",
   "execution_count": 19,
   "metadata": {},
   "outputs": [
    {
     "data": {
      "text/plain": [
       "{'icoord': [[15.0, 15.0, 25.0, 25.0],\n",
       "  [5.0, 5.0, 20.0, 20.0],\n",
       "  [35.0, 35.0, 45.0, 45.0],\n",
       "  [65.0, 65.0, 75.0, 75.0],\n",
       "  [85.0, 85.0, 95.0, 95.0],\n",
       "  [70.0, 70.0, 90.0, 90.0],\n",
       "  [105.0, 105.0, 115.0, 115.0],\n",
       "  [145.0, 145.0, 155.0, 155.0],\n",
       "  [135.0, 135.0, 150.0, 150.0],\n",
       "  [125.0, 125.0, 142.5, 142.5],\n",
       "  [165.0, 165.0, 175.0, 175.0],\n",
       "  [205.0, 205.0, 215.0, 215.0],\n",
       "  [235.0, 235.0, 245.0, 245.0],\n",
       "  [225.0, 225.0, 240.0, 240.0],\n",
       "  [210.0, 210.0, 232.5, 232.5],\n",
       "  [195.0, 195.0, 221.25, 221.25],\n",
       "  [275.0, 275.0, 285.0, 285.0],\n",
       "  [265.0, 265.0, 280.0, 280.0],\n",
       "  [255.0, 255.0, 272.5, 272.5],\n",
       "  [208.125, 208.125, 263.75, 263.75],\n",
       "  [185.0, 185.0, 235.9375, 235.9375],\n",
       "  [170.0, 170.0, 210.46875, 210.46875],\n",
       "  [133.75, 133.75, 190.234375, 190.234375],\n",
       "  [110.0, 110.0, 161.9921875, 161.9921875],\n",
       "  [355.0, 355.0, 365.0, 365.0],\n",
       "  [345.0, 345.0, 360.0, 360.0],\n",
       "  [335.0, 335.0, 352.5, 352.5],\n",
       "  [375.0, 375.0, 385.0, 385.0],\n",
       "  [343.75, 343.75, 380.0, 380.0],\n",
       "  [325.0, 325.0, 361.875, 361.875],\n",
       "  [315.0, 315.0, 343.4375, 343.4375],\n",
       "  [305.0, 305.0, 329.21875, 329.21875],\n",
       "  [295.0, 295.0, 317.109375, 317.109375],\n",
       "  [135.99609375, 135.99609375, 306.0546875, 306.0546875],\n",
       "  [80.0, 80.0, 221.025390625, 221.025390625],\n",
       "  [55.0, 55.0, 150.5126953125, 150.5126953125],\n",
       "  [40.0, 40.0, 102.75634765625, 102.75634765625],\n",
       "  [12.5, 12.5, 71.378173828125, 71.378173828125],\n",
       "  [445.0, 445.0, 455.0, 455.0],\n",
       "  [435.0, 435.0, 450.0, 450.0],\n",
       "  [425.0, 425.0, 442.5, 442.5],\n",
       "  [415.0, 415.0, 433.75, 433.75],\n",
       "  [405.0, 405.0, 424.375, 424.375],\n",
       "  [395.0, 395.0, 414.6875, 414.6875],\n",
       "  [41.9390869140625, 41.9390869140625, 404.84375, 404.84375]],\n",
       " 'dcoord': [[0.0, 0.36171500252191047, 0.36171500252191047, 0.0],\n",
       "  [0.0, 0.467074843043478, 0.467074843043478, 0.36171500252191047],\n",
       "  [0.0, 0.22116883026736553, 0.22116883026736553, 0.0],\n",
       "  [0.0, 0.3832687553580898, 0.3832687553580898, 0.0],\n",
       "  [0.0, 0.44646963003864243, 0.44646963003864243, 0.0],\n",
       "  [0.3832687553580898,\n",
       "   0.5022527969594499,\n",
       "   0.5022527969594499,\n",
       "   0.44646963003864243],\n",
       "  [0.0, 0.29014931235196123, 0.29014931235196123, 0.0],\n",
       "  [0.0, 0.19567759754952377, 0.19567759754952377, 0.0],\n",
       "  [0.0, 0.23292871661468234, 0.23292871661468234, 0.19567759754952377],\n",
       "  [0.0, 0.31194719849888036, 0.31194719849888036, 0.23292871661468234],\n",
       "  [0.0, 0.3055622985844439, 0.3055622985844439, 0.0],\n",
       "  [0.0, 0.11127965117452233, 0.11127965117452233, 0.0],\n",
       "  [0.0, 0.04996635760222238, 0.04996635760222238, 0.0],\n",
       "  [0.0, 0.26980307414541443, 0.26980307414541443, 0.04996635760222238],\n",
       "  [0.11127965117452233,\n",
       "   0.3463189804366596,\n",
       "   0.3463189804366596,\n",
       "   0.26980307414541443],\n",
       "  [0.0, 0.3683716281517905, 0.3683716281517905, 0.3463189804366596],\n",
       "  [0.0, 0.3107590268253165, 0.3107590268253165, 0.0],\n",
       "  [0.0, 0.3912974660245624, 0.3912974660245624, 0.3107590268253165],\n",
       "  [0.0, 0.40925478295547163, 0.40925478295547163, 0.3912974660245624],\n",
       "  [0.3683716281517905,\n",
       "   0.4935670123888892,\n",
       "   0.4935670123888892,\n",
       "   0.40925478295547163],\n",
       "  [0.0, 0.5101046419494216, 0.5101046419494216, 0.4935670123888892],\n",
       "  [0.3055622985844439,\n",
       "   0.5414626503741322,\n",
       "   0.5414626503741322,\n",
       "   0.5101046419494216],\n",
       "  [0.31194719849888036,\n",
       "   0.550435077275201,\n",
       "   0.550435077275201,\n",
       "   0.5414626503741322],\n",
       "  [0.29014931235196123,\n",
       "   0.5704071834505342,\n",
       "   0.5704071834505342,\n",
       "   0.550435077275201],\n",
       "  [0.0, 0.10474915808569221, 0.10474915808569221, 0.0],\n",
       "  [0.0, 0.12655877028343085, 0.12655877028343085, 0.10474915808569221],\n",
       "  [0.0, 0.17701719387638, 0.17701719387638, 0.12655877028343085],\n",
       "  [0.0, 0.18811387186180836, 0.18811387186180836, 0.0],\n",
       "  [0.17701719387638,\n",
       "   0.2699244175760346,\n",
       "   0.2699244175760346,\n",
       "   0.18811387186180836],\n",
       "  [0.0, 0.2898803438047109, 0.2898803438047109, 0.2699244175760346],\n",
       "  [0.0, 0.5410084548167705, 0.5410084548167705, 0.2898803438047109],\n",
       "  [0.0, 0.5849491476260753, 0.5849491476260753, 0.5410084548167705],\n",
       "  [0.0, 0.6141525535061079, 0.6141525535061079, 0.5849491476260753],\n",
       "  [0.5704071834505342,\n",
       "   0.620222825260232,\n",
       "   0.620222825260232,\n",
       "   0.6141525535061079],\n",
       "  [0.5022527969594499,\n",
       "   0.6425563407809056,\n",
       "   0.6425563407809056,\n",
       "   0.620222825260232],\n",
       "  [0.0, 0.6435840608284752, 0.6435840608284752, 0.6425563407809056],\n",
       "  [0.22116883026736553,\n",
       "   0.6494016192209277,\n",
       "   0.6494016192209277,\n",
       "   0.6435840608284752],\n",
       "  [0.467074843043478,\n",
       "   0.6794346348857203,\n",
       "   0.6794346348857203,\n",
       "   0.6494016192209277],\n",
       "  [0.0, 0.1793741783981954, 0.1793741783981954, 0.0],\n",
       "  [0.0, 0.19803333258029276, 0.19803333258029276, 0.1793741783981954],\n",
       "  [0.0, 0.22173460038602452, 0.22173460038602452, 0.19803333258029276],\n",
       "  [0.0, 0.23956449287204118, 0.23956449287204118, 0.22173460038602452],\n",
       "  [0.0, 0.28353313925060597, 0.28353313925060597, 0.23956449287204118],\n",
       "  [0.0, 0.7909314329851502, 0.7909314329851502, 0.28353313925060597],\n",
       "  [0.6794346348857203,\n",
       "   0.7955933424603049,\n",
       "   0.7955933424603049,\n",
       "   0.7909314329851502]],\n",
       " 'ivl': ['Lithuania',\n",
       "  'Estonia',\n",
       "  'Latvia',\n",
       "  'Andorra',\n",
       "  'Spain',\n",
       "  'Italy',\n",
       "  'Austria',\n",
       "  'Switzerland',\n",
       "  'Malta',\n",
       "  'Slovakia',\n",
       "  'Czech Republic',\n",
       "  'Poland',\n",
       "  'Germany',\n",
       "  'Hungary',\n",
       "  'Belgium',\n",
       "  'The Netherlands',\n",
       "  'San Marino',\n",
       "  'Turkey',\n",
       "  'France',\n",
       "  'Georgia',\n",
       "  'Armenia',\n",
       "  'Moldova',\n",
       "  'Russia',\n",
       "  'Belarus',\n",
       "  'Ukraine',\n",
       "  'Greece',\n",
       "  'Romania',\n",
       "  'Bulgaria',\n",
       "  'Cyprus',\n",
       "  'Luxembourg',\n",
       "  'Monaco',\n",
       "  'Portugal',\n",
       "  'United Kingdom',\n",
       "  'Denmark',\n",
       "  'Sweden',\n",
       "  'Iceland',\n",
       "  'Norway',\n",
       "  'Finland',\n",
       "  'Ireland',\n",
       "  'Albania',\n",
       "  'F.Y.R. Macedonia',\n",
       "  'Serbia',\n",
       "  'Montenegro',\n",
       "  'Bosnia & Herzegovina',\n",
       "  'Croatia',\n",
       "  'Slovenia'],\n",
       " 'leaves': [24,\n",
       "  12,\n",
       "  23,\n",
       "  1,\n",
       "  39,\n",
       "  22,\n",
       "  3,\n",
       "  41,\n",
       "  26,\n",
       "  37,\n",
       "  10,\n",
       "  31,\n",
       "  17,\n",
       "  19,\n",
       "  5,\n",
       "  42,\n",
       "  35,\n",
       "  43,\n",
       "  15,\n",
       "  16,\n",
       "  2,\n",
       "  27,\n",
       "  34,\n",
       "  4,\n",
       "  44,\n",
       "  18,\n",
       "  33,\n",
       "  7,\n",
       "  9,\n",
       "  25,\n",
       "  28,\n",
       "  32,\n",
       "  45,\n",
       "  11,\n",
       "  40,\n",
       "  20,\n",
       "  30,\n",
       "  14,\n",
       "  21,\n",
       "  0,\n",
       "  13,\n",
       "  36,\n",
       "  29,\n",
       "  6,\n",
       "  8,\n",
       "  38],\n",
       " 'color_list': ['C1',\n",
       "  'C1',\n",
       "  'C2',\n",
       "  'C2',\n",
       "  'C2',\n",
       "  'C2',\n",
       "  'C2',\n",
       "  'C2',\n",
       "  'C2',\n",
       "  'C2',\n",
       "  'C2',\n",
       "  'C2',\n",
       "  'C2',\n",
       "  'C2',\n",
       "  'C2',\n",
       "  'C2',\n",
       "  'C2',\n",
       "  'C2',\n",
       "  'C2',\n",
       "  'C2',\n",
       "  'C2',\n",
       "  'C2',\n",
       "  'C2',\n",
       "  'C2',\n",
       "  'C2',\n",
       "  'C2',\n",
       "  'C2',\n",
       "  'C2',\n",
       "  'C2',\n",
       "  'C2',\n",
       "  'C2',\n",
       "  'C2',\n",
       "  'C2',\n",
       "  'C2',\n",
       "  'C2',\n",
       "  'C2',\n",
       "  'C2',\n",
       "  'C0',\n",
       "  'C3',\n",
       "  'C3',\n",
       "  'C3',\n",
       "  'C3',\n",
       "  'C3',\n",
       "  'C0',\n",
       "  'C0'],\n",
       " 'leaves_color_list': ['C1',\n",
       "  'C1',\n",
       "  'C1',\n",
       "  'C2',\n",
       "  'C2',\n",
       "  'C2',\n",
       "  'C2',\n",
       "  'C2',\n",
       "  'C2',\n",
       "  'C2',\n",
       "  'C2',\n",
       "  'C2',\n",
       "  'C2',\n",
       "  'C2',\n",
       "  'C2',\n",
       "  'C2',\n",
       "  'C2',\n",
       "  'C2',\n",
       "  'C2',\n",
       "  'C2',\n",
       "  'C2',\n",
       "  'C2',\n",
       "  'C2',\n",
       "  'C2',\n",
       "  'C2',\n",
       "  'C2',\n",
       "  'C2',\n",
       "  'C2',\n",
       "  'C2',\n",
       "  'C2',\n",
       "  'C2',\n",
       "  'C2',\n",
       "  'C2',\n",
       "  'C2',\n",
       "  'C2',\n",
       "  'C2',\n",
       "  'C2',\n",
       "  'C2',\n",
       "  'C2',\n",
       "  'C0',\n",
       "  'C3',\n",
       "  'C3',\n",
       "  'C3',\n",
       "  'C3',\n",
       "  'C3',\n",
       "  'C3']}"
      ]
     },
     "execution_count": 19,
     "metadata": {},
     "output_type": "execute_result"
    },
    {
     "data": {
      "image/png": "[encoded data removed]",
      "text/plain": [
       "<Figure size 640x480 with 1 Axes>"
      ]
     },
     "metadata": {},
     "output_type": "display_data"
    }
   ],
   "source": [
    "hierarhical = hierarchy.linkage(transformed)\n",
    "hierarchy.dendrogram(hierarhical, labels=names, color_threshold=0.65)"
   ]
  },
  {
   "cell_type": "markdown",
   "metadata": {},
   "source": [
    "## Dodatna naloga: DBSCAN"
   ]
  },
  {
   "cell_type": "markdown",
   "metadata": {},
   "source": [
    "D.a: Poglej si kako deluje algoritem DBSCAN in sestavi podatkovno množico, na kateri bo pravilno našel gruče, medtem to bo algoritem k voditeljev pri iskanju gruč neuspešen."
   ]
  },
  {
   "cell_type": "code",
   "execution_count": null,
   "metadata": {},
   "outputs": [],
   "source": []
  },
  {
   "cell_type": "markdown",
   "metadata": {},
   "source": [
    "D.b: Z uporabo plt.scatter na podatkih iz naloge D.a vizualiziraj gruče, ki jih dobiš z algoritmom k voditeljev in DBSCAN-om."
   ]
  },
  {
   "cell_type": "code",
   "execution_count": null,
   "metadata": {},
   "outputs": [],
   "source": []
  },
  {
   "cell_type": "markdown",
   "metadata": {},
   "source": [
    "D.c: Sestavi podatkovno množico, na kateri bo algoritem k voditeljev našel pravilne gruče, DBSCAN pa ne."
   ]
  },
  {
   "cell_type": "code",
   "execution_count": null,
   "metadata": {},
   "outputs": [],
   "source": []
  }
 ],
 "metadata": {
  "kernelspec": {
   "display_name": "ITAP24",
   "language": "python",
   "name": "python3"
  },
  "language_info": {
   "codemirror_mode": {
    "name": "ipython",
    "version": 3
   },
   "file_extension": ".py",
   "mimetype": "text/x-python",
   "name": "python",
   "nbconvert_exporter": "python",
   "pygments_lexer": "ipython3",
   "version": "3.10.13"
  }
 },
 "nbformat": 4,
 "nbformat_minor": 2
}
